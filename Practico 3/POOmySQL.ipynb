{
 "cells": [
  {
   "cell_type": "markdown",
   "metadata": {},
   "source": [
    "# Modelo Orientado a objetos"
   ]
  },
  {
   "cell_type": "markdown",
   "metadata": {},
   "source": [
    "## Elaborar un esquema conceptual para convertir este código a un modelo orientado a objetos."
   ]
  },
  {
   "cell_type": "code",
   "execution_count": 1,
   "metadata": {},
   "outputs": [
    {
     "name": "stdout",
     "output_type": "stream",
     "text": [
      "Requirement already satisfied: pymysql in /home/eleana/Documents/git/pp12021grupo2_a1-pp12021grupo2_a1/jupyter/lib/python3.8/site-packages (1.0.2)\n"
     ]
    }
   ],
   "source": [
    "!pip install pymysql\n",
    "import pandas as pd\n",
    "import pymysql"
   ]
  },
  {
   "cell_type": "markdown",
   "metadata": {},
   "source": [
    "## Clase"
   ]
  },
  {
   "cell_type": "code",
   "execution_count": 7,
   "metadata": {},
   "outputs": [],
   "source": [
    "class ConnectDB():\n",
    "    def __init__(self, host, user, pw, db):\n",
    "        \"\"\"\n",
    "        Datos Conexión a la BBDD\n",
    "        \"\"\"\n",
    "        self.host = 'localhost'\n",
    "        self.user = 'root'\n",
    "        self.pw = 'root'\n",
    "        self.db = 'employees' \n",
    "        self.__cursor = ''\n",
    "        self.connect()\n",
    "    \n",
    "    def successfullConnection(self):\n",
    "        \"\"\"\n",
    "        Conexión a la BBDD de Employees\n",
    "        \"\"\"\n",
    "        try:\n",
    "            self.bbdd = pymysql.connect(host = self.host, user = self.user, pw= self.pw, db= self.db)\n",
    "            self.__cursor = self.bbdd.cursor()\n",
    "            return(\"Conexión Correcta\")\n",
    "        except (pymysql.err.OperationalError, pymysql.err.InternalError) as e:\n",
    "            return(\"Ocurrió un error al conectar: \", e)\n",
    "    \n",
    "    def connection(self):\n",
    "        \"\"\"\n",
    "        Comprobando conexión\n",
    "        \"\"\"\n",
    "        if hasattr(self,'bbdd'):\n",
    "            return self.__cursor\n",
    "        else:\n",
    "            return self.successfullConnection()\n",
    "\n",
    "    def get(self, cons):\n",
    "        \"\"\"\n",
    "        Obtener todas la/s fila/s de la consulta\n",
    "        \"\"\"\n",
    "        if self.connection():\n",
    "            execute = self.__cursor.execute(cons)\n",
    "            if execute > 1 : \n",
    "                return self.__cursor.fetchall()\n",
    "            return self.__cursor.fetchone()\n",
    "\n",
    "    def put(self, cons):\n",
    "        \"\"\"\n",
    "        Insertar o Eliminar una consulta\n",
    "        \"\"\"\n",
    "        if  self.get(cons):\n",
    "            self.bbdd.commit\n",
    "        else:\n",
    "            return(\"No se pudo cargar el dato\")\n",
    "\n",
    "    def dFrame(self, cons):\n",
    "        \"\"\"\n",
    "        Generar el datafrae\n",
    "        \"\"\"\n",
    "        if self.successfullConnection():\n",
    "            df = pd.read_sql_query(cons, self.bbdd )\n",
    "            return df.head(10)"
   ]
  }
 ],
 "metadata": {
  "interpreter": {
   "hash": "8706a245795dced17912af4af21df3f8fcbbda9241f8a0b633c3f430ddbf3906"
  },
  "kernelspec": {
   "display_name": "Python 3.8.10 64-bit ('jupyter': venv)",
   "name": "python3"
  },
  "language_info": {
   "codemirror_mode": {
    "name": "ipython",
    "version": 3
   },
   "file_extension": ".py",
   "mimetype": "text/x-python",
   "name": "python",
   "nbconvert_exporter": "python",
   "pygments_lexer": "ipython3",
   "version": "3.8.10"
  },
  "orig_nbformat": 4
 },
 "nbformat": 4,
 "nbformat_minor": 2
}
