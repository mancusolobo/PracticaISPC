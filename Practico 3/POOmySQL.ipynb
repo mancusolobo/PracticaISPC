{
 "cells": [
  {
   "cell_type": "markdown",
   "metadata": {},
   "source": [
    "# Modelo Orientado a objetos\n"
   ]
  },
  {
   "cell_type": "markdown",
   "metadata": {},
   "source": [
    "## Elaborar un esquema conceptual para convertir este código a un modelo orientado a objetos.\n"
   ]
  },
  {
   "cell_type": "code",
   "execution_count": 141,
   "metadata": {},
   "outputs": [],
   "source": [
    "import pandas as pd\n",
    "import pymysql\n"
   ]
  },
  {
   "cell_type": "markdown",
   "metadata": {},
   "source": [
    "## Clase\n"
   ]
  },
  {
   "cell_type": "code",
   "execution_count": 159,
   "metadata": {},
   "outputs": [],
   "source": [
    "class ConnectDB():\n",
    "    \"\"\"\n",
    "    Clase usada para la Conexión de la Base de Datos mySQL \n",
    "    \"\"\"\n",
    "\n",
    "    def __init__(self, host, user, password, db):\n",
    "        self.host = host\n",
    "        self.user = user\n",
    "        self.password = password\n",
    "        self.db = db\n",
    "        cursor = ''\n",
    "        self.successfullConnection()\n",
    "\n",
    "    def successfullConnection(self):\n",
    "        \"\"\"\n",
    "        Conexión a la BBDD de Employees\n",
    "        \"\"\"\n",
    "        try:\n",
    "            self.bbdd = pymysql.connect(\n",
    "                host=self.host, user=self.user, password=self.password, db=self.db)\n",
    "            self.cursor = self.bbdd.cursor()\n",
    "            return(\"Conexión Correcta\")\n",
    "        except (pymysql.err.OperationalError, pymysql.err.InternalError) as e:\n",
    "            return(\"Ocurrió un error al conectar: \", e)\n",
    "\n",
    "    def connection(self):\n",
    "        \"\"\"\n",
    "        Comprobando conexión\n",
    "        \"\"\"\n",
    "        if hasattr(self, 'bbdd'):\n",
    "            return self.cursor\n",
    "        else:\n",
    "            return self.successfullConnection()\n",
    "\n",
    "    def get(self, cons):\n",
    "        \"\"\"\n",
    "        Obtener todas la/s fila/s de la consulta\n",
    "        \"\"\"\n",
    "        if self.connection():\n",
    "            execute = self.cursor.execute(cons)\n",
    "            if execute > 1:\n",
    "                return self.cursor.fetchall()\n",
    "            return self.cursor.fetchone()\n",
    "\n",
    "    def put(self, cons, values):\n",
    "        \"\"\"\n",
    "        Insertar o Eliminar una consulta\n",
    "        \"\"\"\n",
    "        if self.connection():\n",
    "            execute = self.cursor.execute(cons, values)\n",
    "        self.bbdd.commit()\n",
    "\n",
    "    def dFrame(self, cons):\n",
    "        \"\"\"\n",
    "        Generar el datafrae\n",
    "        \"\"\"\n",
    "        if self.successfullConnection():\n",
    "            df = pd.read_sql_query(cons, self.bbdd)\n",
    "            return df.head(10)\n"
   ]
  },
  {
   "cell_type": "markdown",
   "metadata": {},
   "source": [
    "# Objeto de la clase "
   ]
  },
  {
   "cell_type": "code",
   "execution_count": 143,
   "metadata": {},
   "outputs": [],
   "source": [
    "cDB = ConnectDB('localhost', 'root', 'root', 'employees')"
   ]
  },
  {
   "cell_type": "markdown",
   "metadata": {},
   "source": [
    "---\n",
    "\n",
    "## Obtenemos los datos de la tabla employees\n"
   ]
  },
  {
   "cell_type": "code",
   "execution_count": 144,
   "metadata": {},
   "outputs": [
    {
     "name": "stdout",
     "output_type": "stream",
     "text": [
      "   emp_no  birth_date first_name  last_name gender   hire_date\n",
      "0   10001  1953-09-02     Georgi    Facello      M  1986-06-26\n",
      "1   10002  1964-06-02    Bezalel     Simmel      F  1985-11-21\n",
      "2   10003  1959-12-03      Parto    Bamford      M  1986-08-28\n",
      "3   10004  1954-05-01  Chirstian    Koblick      M  1986-12-01\n",
      "4   10005  1955-01-21    Kyoichi   Maliniak      M  1989-09-12\n",
      "5   10006  1953-04-20     Anneke    Preusig      F  1989-06-02\n",
      "6   10007  1957-05-23    Tzvetan  Zielinski      F  1989-02-10\n",
      "7   10008  1958-02-19     Saniya   Kalloufi      M  1994-09-15\n",
      "8   10009  1952-04-19     Sumant       Peac      F  1985-02-18\n",
      "9   10010  1963-06-01  Duangkaew   Piveteau      F  1989-08-24\n"
     ]
    }
   ],
   "source": [
    "cons = \"SELECT * FROM employees;\"\n",
    "employees = cDB.dFrame(cons)\n",
    "print(employees)"
   ]
  },
  {
   "cell_type": "markdown",
   "metadata": {},
   "source": [
    "---\n",
    "\n",
    "## Obtener los datos completos de los departamentos\n"
   ]
  },
  {
   "cell_type": "code",
   "execution_count": 170,
   "metadata": {},
   "outputs": [
    {
     "name": "stdout",
     "output_type": "stream",
     "text": [
      "  dept_no           dept_name\n",
      "0    d010    Ciencia de Datos\n",
      "1    d009    Customer Service\n",
      "2    d005         Development\n",
      "3    d002             Finance\n",
      "4    d003     Human Resources\n",
      "5    d011    Machine Learning\n",
      "6    d001           Marketing\n",
      "7    d004          Production\n",
      "8    d006  Quality Management\n",
      "9    d008            Research\n"
     ]
    }
   ],
   "source": [
    "cons = \"SELECT * FROM departments;\"\n",
    "departments = cDB.dFrame(cons)\n",
    "print(departments)\n"
   ]
  },
  {
   "cell_type": "markdown",
   "metadata": {},
   "source": [
    "---\n",
    "\n",
    "## Obtenemos los datos de la tabla employees que sean mujeres\n"
   ]
  },
  {
   "cell_type": "code",
   "execution_count": 146,
   "metadata": {},
   "outputs": [
    {
     "name": "stdout",
     "output_type": "stream",
     "text": [
      "   emp_no  birth_date first_name   last_name gender   hire_date\n",
      "0   10002  1964-06-02    Bezalel      Simmel      F  1985-11-21\n",
      "1   10006  1953-04-20     Anneke     Preusig      F  1989-06-02\n",
      "2   10007  1957-05-23    Tzvetan   Zielinski      F  1989-02-10\n",
      "3   10009  1952-04-19     Sumant        Peac      F  1985-02-18\n",
      "4   10010  1963-06-01  Duangkaew    Piveteau      F  1989-08-24\n",
      "5   10011  1953-11-07       Mary       Sluis      F  1990-01-22\n",
      "6   10017  1958-07-06  Cristinel   Bouloucos      F  1993-08-03\n",
      "7   10018  1954-06-19   Kazuhide        Peha      F  1987-04-03\n",
      "8   10023  1953-09-29      Bojan  Montemayor      F  1989-12-17\n",
      "9   10024  1958-09-05    Suzette      Pettey      F  1997-05-19\n"
     ]
    }
   ],
   "source": [
    "cons = \"SELECT * FROM employees WHERE gender ='F';\"\n",
    "emp_F = cDB.dFrame(cons)\n",
    "print(emp_F)\n"
   ]
  },
  {
   "cell_type": "markdown",
   "metadata": {},
   "source": [
    "---\n",
    "\n",
    "## Obtener la cantidad de empleados de sexo femenino.\n"
   ]
  },
  {
   "cell_type": "code",
   "execution_count": 147,
   "metadata": {},
   "outputs": [
    {
     "name": "stdout",
     "output_type": "stream",
     "text": [
      "   Mujeres\n",
      "0   120051\n"
     ]
    }
   ],
   "source": [
    "cons = \"SELECT COUNT(*) AS Mujeres FROM employees WHERE gender ='F';\"\n",
    "cant_F = cDB.dFrame(cons)\n",
    "print(cant_F)\n"
   ]
  },
  {
   "cell_type": "markdown",
   "metadata": {},
   "source": [
    "---\n",
    "\n",
    "## Obtener los empleados que son o han sido \"Staff\". Recordar que es una consulta multi tablas.\n"
   ]
  },
  {
   "cell_type": "code",
   "execution_count": 148,
   "metadata": {},
   "outputs": [
    {
     "name": "stdout",
     "output_type": "stream",
     "text": [
      "   emp_no  birth_date first_name    last_name gender   hire_date  title\n",
      "0   10002  1964-06-02    Bezalel       Simmel      F  1985-11-21  Staff\n",
      "1   10005  1955-01-21    Kyoichi     Maliniak      M  1989-09-12  Staff\n",
      "2   10007  1957-05-23    Tzvetan    Zielinski      F  1989-02-10  Staff\n",
      "3   10011  1953-11-07       Mary        Sluis      F  1990-01-22  Staff\n",
      "4   10016  1961-05-02   Kazuhito  Cappelletti      M  1995-01-27  Staff\n",
      "5   10017  1958-07-06  Cristinel    Bouloucos      F  1993-08-03  Staff\n",
      "6   10019  1953-01-23    Lillian      Haddadi      M  1999-04-30  Staff\n",
      "7   10034  1962-12-29      Bader         Swan      M  1988-09-21  Staff\n",
      "8   10038  1960-07-20       Huan        Lortz      M  1989-09-20  Staff\n",
      "9   10039  1959-10-01  Alejandro      Brender      M  1988-01-19  Staff\n"
     ]
    }
   ],
   "source": [
    "cons = \"SELECT e.emp_no, birth_date, first_name, last_name, gender, hire_date, title FROM employees AS e JOIN titles AS t ON e.emp_no = t.emp_no WHERE t.title = 'Staff';\"\n",
    "staff = cDB.dFrame(cons)\n",
    "print(staff)\n"
   ]
  },
  {
   "cell_type": "markdown",
   "metadata": {},
   "source": [
    "---\n",
    "\n",
    "## Agregar el departamento Ciencia de Datos\n"
   ]
  },
  {
   "cell_type": "code",
   "execution_count": null,
   "metadata": {},
   "outputs": [],
   "source": [
    "cons = \"INSERT INTO departments (dept_no, dept_name) VALUES (%s, %s);\"\n",
    "values = ('d010', 'Ciencia de Datos')\n",
    "insert_cs = cDB.put(cons, values)"
   ]
  },
  {
   "cell_type": "code",
   "execution_count": 153,
   "metadata": {},
   "outputs": [
    {
     "name": "stdout",
     "output_type": "stream",
     "text": [
      "  dept_no         dept_name\n",
      "0    d010  Ciencia de Datos\n"
     ]
    }
   ],
   "source": [
    "cons = \"SELECT dept_no, dept_name FROM departments WHERE dept_name = 'Ciencia de Datos'; \"\n",
    "dpt_cd = cDB.dFrame(cons)\n",
    "print(dpt_cd)\n"
   ]
  },
  {
   "cell_type": "markdown",
   "metadata": {},
   "source": [
    "---\n",
    "\n",
    "## Insertamos un valor en la tabla employees\n"
   ]
  },
  {
   "cell_type": "code",
   "execution_count": 172,
   "metadata": {},
   "outputs": [],
   "source": [
    "cons = \"INSERT INTO employees(emp_no, birth_date, first_name, last_name, gender, hire_date) VALUES (%s, %s, %s, %s, %s, %s);\"\n",
    "values = ('00006', '1985-05-01', 'Raul', 'Pe', 'M', '1985-01-01')\n",
    "insert = cDB.put(cons, values)\n"
   ]
  },
  {
   "cell_type": "code",
   "execution_count": 173,
   "metadata": {},
   "outputs": [
    {
     "name": "stdout",
     "output_type": "stream",
     "text": [
      "   emp_no  birth_date first_name last_name gender   hire_date\n",
      "0       6  1985-05-01       Raul        Pe      M  1985-01-01\n"
     ]
    }
   ],
   "source": [
    "cons = \"SELECT emp_no, birth_date, first_name, last_name, gender, hire_date FROM employees WHERE emp_no = '00006';\"\n",
    "dpt_cd = cDB.dFrame(cons)\n",
    "print(dpt_cd)\n"
   ]
  },
  {
   "cell_type": "markdown",
   "metadata": {},
   "source": [
    "---\n",
    "\n",
    "## Borrar el empleado \"Raul\"\n"
   ]
  },
  {
   "cell_type": "code",
   "execution_count": 176,
   "metadata": {},
   "outputs": [],
   "source": [
    "cons = \"DELETE FROM employees WHERE first_name = %s;\"\n",
    "values = 'Raul'\n",
    "delete = cDB.put(cons, values)"
   ]
  },
  {
   "cell_type": "code",
   "execution_count": 177,
   "metadata": {},
   "outputs": [
    {
     "name": "stdout",
     "output_type": "stream",
     "text": [
      "Empty DataFrame\n",
      "Columns: [emp_no, birth_date, first_name, last_name, gender, hire_date]\n",
      "Index: []\n"
     ]
    }
   ],
   "source": [
    "cons = \"SELECT emp_no, birth_date, first_name, last_name, gender, hire_date FROM employees WHERE emp_no = '00006';\"\n",
    "dpt_cd = cDB.dFrame(cons)\n",
    "print(dpt_cd)\n"
   ]
  }
 ],
 "metadata": {
  "interpreter": {
   "hash": "f0402159d711d0052a3e7bca0b7351e58d575a60ee4ba99fae509d4e59c9db22"
  },
  "kernelspec": {
   "display_name": "Python 3.8.10 64-bit ('jupyter': venv)",
   "name": "python3"
  },
  "language_info": {
   "codemirror_mode": {
    "name": "ipython",
    "version": 3
   },
   "file_extension": ".py",
   "mimetype": "text/x-python",
   "name": "python",
   "nbconvert_exporter": "python",
   "pygments_lexer": "ipython3",
   "version": "3.8.10"
  },
  "orig_nbformat": 4
 },
 "nbformat": 4,
 "nbformat_minor": 2
}
