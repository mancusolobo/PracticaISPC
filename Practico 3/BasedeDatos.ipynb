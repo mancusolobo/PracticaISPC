{
  "nbformat": 4,
  "nbformat_minor": 0,
  "metadata": {
    "kernelspec": {
      "display_name": "Python 3",
      "language": "python",
      "name": "python3"
    },
    "language_info": {
      "codemirror_mode": {
        "name": "ipython",
        "version": 3
      },
      "file_extension": ".py",
      "mimetype": "text/x-python",
      "name": "python",
      "nbconvert_exporter": "python",
      "pygments_lexer": "ipython3",
      "version": "3.7.6"
    },
    "colab": {
      "name": "BasedeDatos.ipynb",
      "provenance": [],
      "collapsed_sections": []
    }
  },
  "cells": [
    {
      "cell_type": "markdown",
      "metadata": {
        "id": "g-AMUZ8QsFlv"
      },
      "source": [
        "# BASE DE DATOS\n",
        "---\n",
        "## SQL & NoSQL | Python\n"
      ]
    },
    {
      "cell_type": "markdown",
      "metadata": {
        "id": "PUFfmBHVsFlx"
      },
      "source": [
        "## Tomando como base el diagrama entidad relación de la figura superior, responder\n",
        "\n",
        "Escribir las sentencias en SQL\n"
      ]
    },
    {
      "cell_type": "markdown",
      "metadata": {
        "id": "QjG6F-8rsFlx"
      },
      "source": [
        "### 1er Ejercicio\n",
        "\n",
        "Obtener los datos completos de los empleados.\n",
        "\n",
        "```sql\n",
        "SELECT * FROM employees;\n",
        "```"
      ]
    },
    {
      "cell_type": "markdown",
      "metadata": {
        "id": "pl1sKUQZsFly"
      },
      "source": [
        "### 2do Ejercicio\n",
        "\n",
        "Obtener los datos completos de los departamentos.\n",
        "\n",
        "```sql\n",
        "SELECT * FROM departments;\n",
        "```"
      ]
    },
    {
      "cell_type": "markdown",
      "metadata": {
        "id": "J2NbK162sFlz"
      },
      "source": [
        "### 3er Ejercicio\n",
        "\n",
        "Obtener la cantidad de empleados de sexo femnino.\n",
        "\n",
        "```sql\n",
        "SELECT COUNT(*) \n",
        "FROM employees \n",
        "WHERE gender ='F';\n",
        "```\n"
      ]
    },
    {
      "cell_type": "markdown",
      "metadata": {
        "id": "OldbLaCOsFl0"
      },
      "source": [
        "### 4to Ejercicio\n",
        "\n",
        "Obtener los empleados que son o han sido \"staff\". Recordar que es una consulta multi tablas.\n",
        "\n",
        "```sql\n",
        "SELECT e.emp_no, birth_date, first_name, last_name, gender, hire_date \n",
        "FROM employees AS e \n",
        "JOIN titles AS t ON e.emp_no = t.emp_no \n",
        "WHERE t.title = 'Staff'\n",
        "```"
      ]
    },
    {
      "cell_type": "markdown",
      "metadata": {
        "id": "YCht4gnssFl1"
      },
      "source": [
        "### 5to Ejercicio\n",
        "\n",
        "Agregar el departamento Cienca de Datos.\n",
        "\n",
        "```sql\n",
        "INSERT INTO departments (dept_name)\n",
        "VALUES (\"Ciencia de Datos\");\n",
        "```"
      ]
    },
    {
      "cell_type": "markdown",
      "metadata": {
        "id": "DVyinpPrsFl1"
      },
      "source": [
        "### 6to Ejercicio\n",
        "\n",
        "Agregar el empleado \"Pepe\" y hacerlo jefe (\"manager\") del departamento Cienca de Datos.\n",
        "\n",
        "```sql\n",
        "INSERT INTO employees (first_name, last_name, category, department)\n",
        "VALUES (\"Pepe\", \"Argento\", \"Manager\", \"Ciencia de Datos\");\n",
        "```"
      ]
    },
    {
      "cell_type": "markdown",
      "metadata": {
        "id": "ZCJ4yHIlsFl1"
      },
      "source": [
        "### 7mo Ejercicio\n",
        "\n",
        "Borrar el empleado \"Pepe\".\n",
        "\n",
        "```sql\n",
        "DELETE FROM employees \n",
        "WHERE first_name = 'Pepe';\n",
        "```"
      ]
    },
    {
      "cell_type": "markdown",
      "metadata": {
        "id": "mGfoSVrlsFl2"
      },
      "source": [
        "### 8vo Ejercicio\n",
        "\n",
        "Obtener el promedio de salarios por departamento.\n",
        "\n",
        "```sql\n",
        "SELECT departments.dept_name as depts,\n",
        "AVG(salaries.salary) as avg_salary \n",
        "FROM departments  LEFT JOIN dept_emp\n",
        "ON dept_emp.dept_no = departments.dept_no \n",
        "LEFT JOIN employees \n",
        "ON dept_emp.emp_no = employees.emp_no \n",
        "LEFT JOIN salaries \n",
        "ON salaries.emp_no = employees.emp_no \n",
        "GROUP BY departments.dept_name;\n",
        "```"
      ]
    },
    {
      "cell_type": "markdown",
      "metadata": {
        "id": "qQGjgaOxsFl2"
      },
      "source": [
        "### 9no Ejercicio\n",
        "\n",
        "Compartir el código en Python para crear en MongoDB una base de datos denominada \"weatherHistory\" y una colección con el mismo nombre. Cargar los datos del archivo csv denominado weatherHistory.csv\n"
      ]
    },
    {
      "cell_type": "code",
      "metadata": {
        "id": "BlpH56hjXDiy",
        "colab": {
          "base_uri": "https://localhost:8080/"
        },
        "outputId": "4ae69581-5abb-4a6e-b94f-9c9aa724ee6f"
      },
      "source": [
        "#Imports\n",
        "!python -m pip install pymongo==3.7.2\n",
        "import pymongo\n",
        "import pandas as pd"
      ],
      "execution_count": null,
      "outputs": [
        {
          "output_type": "stream",
          "name": "stdout",
          "text": [
            "Requirement already satisfied: pymongo==3.7.2 in /usr/local/lib/python3.7/dist-packages (3.7.2)\n"
          ]
        }
      ]
    },
    {
      "cell_type": "code",
      "metadata": {
        "id": "MlADjrBsy_No"
      },
      "source": [
        "#Conectar a un servidor mongo"
      ],
      "execution_count": null,
      "outputs": []
    },
    {
      "cell_type": "code",
      "metadata": {
        "id": "LgGa-xmAXESM"
      },
      "source": [
        "#Conexión a MongoDB\n",
        "uri = 'mongodb://'\n",
        "client = pymongo.MongoClient(uri, 27017)\n",
        "db = client.beltqgh7fx6sbpu\n",
        "client.stats\n",
        "client.list_database_names()\n",
        "#Leemos el csv\n",
        "with open('weatherHistory.csv') as finput:\n",
        "  data = finput.readlines()\n",
        "  #Quitamos los encabezamos y los agregamos a una variable\n",
        "  column_names = data.pop(0).split(',')\n",
        "  data_dict = []\n",
        "  #Recorremos el archivo mientras se insertan\n",
        "  for line in data:\n",
        "    row_list =line.rstrip('\\n').split(',')\n",
        "    row_dict = dict(zip(column_names,row_list))\n",
        "    data_dict.append(row_dict)\n",
        "finput.close()\n",
        "collection.insert_many(data_dict)\n",
        "client.list_database_names()"
      ],
      "execution_count": null,
      "outputs": []
    },
    {
      "cell_type": "code",
      "metadata": {
        "id": "zFz8McA9sFl3"
      },
      "source": [
        "print(collection.count_documents({}))"
      ],
      "execution_count": null,
      "outputs": []
    },
    {
      "cell_type": "markdown",
      "metadata": {
        "id": "VCvkf3fyLDkz"
      },
      "source": [
        "### 10mo Ejercicio\n",
        "\n",
        "Compartir el código en en Python que devuelva la cantidad de registros insertados en la colección anterior.\n"
      ]
    },
    {
      "cell_type": "code",
      "metadata": {
        "id": "5ulo3NxVLKxW"
      },
      "source": [
        "collection.estimated_document_count()"
      ],
      "execution_count": null,
      "outputs": []
    }
  ]
}
