{
 "cells": [
  {
   "cell_type": "markdown",
   "metadata": {},
   "source": [
    "# Programación Python | MySql "
   ]
  },
  {
   "cell_type": "markdown",
   "metadata": {},
   "source": [
    "## Instalar pymysql para poder conectarnos desde Python"
   ]
  },
  {
   "cell_type": "code",
   "execution_count": 2,
   "metadata": {},
   "outputs": [
    {
     "name": "stdout",
     "output_type": "stream",
     "text": [
      "Requirement already satisfied: pymysql in /home/eleana/Documents/git/MLeImagenesPython/jupyter/lib/python3.8/site-packages (1.0.2)\n"
     ]
    }
   ],
   "source": [
    "!pip install pymysql"
   ]
  },
  {
   "cell_type": "markdown",
   "metadata": {},
   "source": [
    "## Realizar la conexion a la BBDD employees"
   ]
  },
  {
   "cell_type": "code",
   "execution_count": 3,
   "metadata": {},
   "outputs": [
    {
     "name": "stdout",
     "output_type": "stream",
     "text": [
      "Ocurrió un error al conectar:  (2003, \"Can't connect to MySQL server on 'localhost' ([Errno 111] Connection refused)\")\n"
     ]
    }
   ],
   "source": [
    "import pymysql\n",
    "try:\n",
    "\tconexion = pymysql.connect(host='localhost',\n",
    "                             user='root',\n",
    "                             password='root',\n",
    "                             db='employees')\n",
    "\tprint(\"Conexión correcta\")\n",
    "except (pymysql.err.OperationalError, pymysql.err.InternalError) as e:\n",
    "\tprint(\"Ocurrió un error al conectar: \", e)"
   ]
  },
  {
   "cell_type": "markdown",
   "metadata": {},
   "source": [
    "## Obtenemos los datos de la tabla employees"
   ]
  },
  {
   "cell_type": "code",
   "execution_count": null,
   "metadata": {},
   "outputs": [],
   "source": [
    "import pymysql\n",
    "try:\n",
    "    conexion = pymysql.connect(host='localhost',\n",
    "                             user='root',\n",
    "                             password='',\n",
    "                             db='employees')\n",
    "    try:\n",
    "        with conexion.cursor() as cursor:\n",
    "            # En este caso no necesitamos limpiar ningún dato\n",
    "            cursor.execute(\"SELECT * FROM employees;\")\n",
    " \n",
    "            # Con fetchall traemos todas las filas\n",
    "            employees = cursor.fetchall()\n",
    " \n",
    "            # Recorrer e imprimir\n",
    "            for emp in employees:\n",
    "                print(emp)\n",
    "    finally:\n",
    "        conexion.close()\n",
    "    \n",
    "except (pymysql.err.OperationalError, pymysql.err.InternalError) as e:\n",
    "    print(\"Ocurrió un error al conectar: \", e)"
   ]
  },
  {
   "cell_type": "markdown",
   "metadata": {},
   "source": [
    "## Obtenemos los datos de la tabla employees que sean mujeres"
   ]
  },
  {
   "cell_type": "code",
   "execution_count": null,
   "metadata": {},
   "outputs": [],
   "source": [
    "import pymysql\n",
    "try:\n",
    "    conexion = pymysql.connect(host='localhost',\n",
    "                             user='root',\n",
    "                             password='',\n",
    "                             db='employees')\n",
    "    try:\n",
    "        with conexion.cursor() as cursor:\n",
    "            consulta = \"SELECT emp_no, last_name FROM employees WHERE gender ='F';\"\n",
    "            cursor.execute(consulta)\n",
    " \n",
    "            # Con fetchall traemos todas las filas\n",
    "            employees = cursor.fetchall()\n",
    " \n",
    "            # Recorrer e imprimir\n",
    "            for emp in employees:\n",
    "                print(emp)\n",
    "    finally:\n",
    "        conexion.close()\n",
    "    \n",
    "except (pymysql.err.OperationalError, pymysql.err.InternalError) as e:\n",
    "    print(\"Ocurrió un error al conectar: \", e)"
   ]
  },
  {
   "cell_type": "markdown",
   "metadata": {},
   "source": [
    "## Insertamos un valor en la tabla employees"
   ]
  },
  {
   "cell_type": "code",
   "execution_count": null,
   "metadata": {},
   "outputs": [],
   "source": [
    "import pymysql\n",
    "try:\n",
    "    conexion = pymysql.connect(host='localhost',\n",
    "                             user='root',\n",
    "                             password='',\n",
    "                             db='employees')\n",
    "    try:\n",
    "        with conexion.cursor() as cursor:\n",
    "            consulta = \"INSERT INTO employees(emp_no, birth_date, first_name, last_name, gender, hire_date) VALUES (%s, %s, %s, %s, %s, %s);\"\n",
    "            #Podemos llamar muchas veces a .execute con datos distintos\n",
    "            cursor.execute(consulta, (1000, '1985-01-01','Pepe', 'Pe','M','1985-01-01'))\n",
    "            #cursor.execute(consulta, ())\n",
    "            #cursor.execute(consulta, ())\n",
    "            #cursor.execute(consulta, ())\n",
    "        conexion.commit()\n",
    "    finally:\n",
    "        conexion.close()\n",
    "except (pymysql.err.OperationalError, pymysql.err.InternalError) as e:\n",
    "    print(\"Ocurrió un error al conectar: \", e)"
   ]
  },
  {
   "cell_type": "markdown",
   "metadata": {},
   "source": [
    "## Preguntas para reflexionar:\n",
    "\n",
    "1- Se podrán percatar de los retardos en la carga de datos.\n",
    "\n",
    "2- Cuando que quieran cargar los sueldos, habrá problemas también.\n"
   ]
  },
  {
   "cell_type": "code",
   "execution_count": null,
   "metadata": {},
   "outputs": [],
   "source": []
  },
  {
   "cell_type": "markdown",
   "metadata": {},
   "source": [
    "## Ejercicios:\n",
    "\n",
    "1- Cargar en un dataframa los datos de las consultas.\n",
    "\n",
    "2- Elaborar un esquema conceptual para convertir este código a un modelo orientado a objetos.\n",
    "\n",
    "3- Agregar al esquema el modelo de regresión lineal orientado a objetos dado en la clase 17. A continuación el link.\n",
    "https://github.com/tirthajyoti/Machine-Learning-with-Python/blob/master/OOP_in_ML/Class_MyLinearRegression.ipynb¶\n",
    "\n",
    "\n"
   ]
  },
  {
   "cell_type": "code",
   "execution_count": null,
   "metadata": {},
   "outputs": [],
   "source": []
  }
 ],
 "metadata": {
  "interpreter": {
   "hash": "ad839e1694479193625f27bab8025f4348cfecc914c758328c3d3d9d71d68b57"
  },
  "kernelspec": {
   "display_name": "Python 3.8.10 64-bit ('jupyter': venv)",
   "name": "python3"
  },
  "language_info": {
   "codemirror_mode": {
    "name": "ipython",
    "version": 3
   },
   "file_extension": ".py",
   "mimetype": "text/x-python",
   "name": "python",
   "nbconvert_exporter": "python",
   "pygments_lexer": "ipython3",
   "version": "3.8.10"
  }
 },
 "nbformat": 4,
 "nbformat_minor": 4
}
