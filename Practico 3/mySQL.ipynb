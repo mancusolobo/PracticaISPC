{
 "cells": [
  {
   "cell_type": "markdown",
   "metadata": {},
   "source": [
    "# mySQL | Python\n"
   ]
  },
  {
   "cell_type": "markdown",
   "metadata": {},
   "source": [
    "## Librerías a utilizar\n"
   ]
  },
  {
   "cell_type": "code",
   "execution_count": 3,
   "metadata": {},
   "outputs": [
    {
     "name": "stdout",
     "output_type": "stream",
     "text": [
      "Requirement already satisfied: pymysql in /home/eleana/Documents/git/practica/pp12021grupo2_a1-pp12021grupo2_a1/jupyter/lib/python3.8/site-packages (1.0.2)\n"
     ]
    }
   ],
   "source": [
    "## Instalar pymysql para poder conectarnos desde Python\n",
    "!pip install pymysql\n",
    "import pandas as pd\n",
    "import pymysql"
   ]
  },
  {
   "cell_type": "markdown",
   "metadata": {},
   "source": [
    "## Realizar la conexion a la BBDD employees\n"
   ]
  },
  {
   "cell_type": "code",
   "execution_count": 4,
   "metadata": {},
   "outputs": [
    {
     "name": "stdout",
     "output_type": "stream",
     "text": [
      "Conexión correcta\n"
     ]
    }
   ],
   "source": [
    "try:\n",
    "    conexion = pymysql.connect(host='localhost',\n",
    "                               user='root',\n",
    "                               password='root',\n",
    "                               db='employees')\n",
    "    print(\"Conexión correcta\")\n",
    "except (pymysql.err.OperationalError, pymysql.err.InternalError) as e:\n",
    "    print(\"Ocurrió un error al conectar: \", e)\n"
   ]
  },
  {
   "cell_type": "markdown",
   "metadata": {},
   "source": [
    "______\n",
    "## Obtenemos los datos de la tabla employees\n"
   ]
  },
  {
   "cell_type": "code",
   "execution_count": 5,
   "metadata": {},
   "outputs": [
    {
     "name": "stdout",
     "output_type": "stream",
     "text": [
      "Se realizó la consulta\n"
     ]
    }
   ],
   "source": [
    "try:\n",
    "    with conexion.cursor() as cursor:\n",
    "        cursor.execute(\"SELECT * FROM employees;\") # En este caso no necesitamos limpiar ningún dato\n",
    "        print(\"Se realizó la consulta\")\n",
    "        employees = cursor.fetchall()\n",
    "except:\n",
    "    print('No se pudo realizar la consulta')"
   ]
  },
  {
   "cell_type": "code",
   "execution_count": 6,
   "metadata": {},
   "outputs": [
    {
     "data": {
      "text/html": [
       "<div>\n",
       "<style scoped>\n",
       "    .dataframe tbody tr th:only-of-type {\n",
       "        vertical-align: middle;\n",
       "    }\n",
       "\n",
       "    .dataframe tbody tr th {\n",
       "        vertical-align: top;\n",
       "    }\n",
       "\n",
       "    .dataframe thead th {\n",
       "        text-align: right;\n",
       "    }\n",
       "</style>\n",
       "<table border=\"1\" class=\"dataframe\">\n",
       "  <thead>\n",
       "    <tr style=\"text-align: right;\">\n",
       "      <th></th>\n",
       "      <th>ID_empleado</th>\n",
       "      <th>Nacimiento</th>\n",
       "      <th>Nombre</th>\n",
       "      <th>Apellido</th>\n",
       "      <th>Genero</th>\n",
       "      <th>Fecha_Contratacion</th>\n",
       "    </tr>\n",
       "  </thead>\n",
       "  <tbody>\n",
       "    <tr>\n",
       "      <th>0</th>\n",
       "      <td>10001</td>\n",
       "      <td>1953-09-02</td>\n",
       "      <td>Georgi</td>\n",
       "      <td>Facello</td>\n",
       "      <td>M</td>\n",
       "      <td>1986-06-26</td>\n",
       "    </tr>\n",
       "    <tr>\n",
       "      <th>1</th>\n",
       "      <td>10002</td>\n",
       "      <td>1964-06-02</td>\n",
       "      <td>Bezalel</td>\n",
       "      <td>Simmel</td>\n",
       "      <td>F</td>\n",
       "      <td>1985-11-21</td>\n",
       "    </tr>\n",
       "    <tr>\n",
       "      <th>2</th>\n",
       "      <td>10003</td>\n",
       "      <td>1959-12-03</td>\n",
       "      <td>Parto</td>\n",
       "      <td>Bamford</td>\n",
       "      <td>M</td>\n",
       "      <td>1986-08-28</td>\n",
       "    </tr>\n",
       "    <tr>\n",
       "      <th>3</th>\n",
       "      <td>10004</td>\n",
       "      <td>1954-05-01</td>\n",
       "      <td>Chirstian</td>\n",
       "      <td>Koblick</td>\n",
       "      <td>M</td>\n",
       "      <td>1986-12-01</td>\n",
       "    </tr>\n",
       "    <tr>\n",
       "      <th>4</th>\n",
       "      <td>10005</td>\n",
       "      <td>1955-01-21</td>\n",
       "      <td>Kyoichi</td>\n",
       "      <td>Maliniak</td>\n",
       "      <td>M</td>\n",
       "      <td>1989-09-12</td>\n",
       "    </tr>\n",
       "  </tbody>\n",
       "</table>\n",
       "</div>"
      ],
      "text/plain": [
       "   ID_empleado  Nacimiento     Nombre  Apellido Genero Fecha_Contratacion\n",
       "0        10001  1953-09-02     Georgi   Facello      M         1986-06-26\n",
       "1        10002  1964-06-02    Bezalel    Simmel      F         1985-11-21\n",
       "2        10003  1959-12-03      Parto   Bamford      M         1986-08-28\n",
       "3        10004  1954-05-01  Chirstian   Koblick      M         1986-12-01\n",
       "4        10005  1955-01-21    Kyoichi  Maliniak      M         1989-09-12"
      ]
     },
     "execution_count": 6,
     "metadata": {},
     "output_type": "execute_result"
    }
   ],
   "source": [
    "## Convertimos en DataFrame y obtenemos las cinco primeras filas\n",
    "emp = \"SELECT emp_no AS ID_empleado, birth_date AS Nacimiento, first_name AS Nombre, last_name AS Apellido, gender AS Genero, hire_date AS Fecha_Contratacion FROM employees ;\"\n",
    "df_emp = pd.read_sql_query(emp, conexion)\n",
    "df_emp.head()\n"
   ]
  },
  {
   "cell_type": "markdown",
   "metadata": {},
   "source": [
    "______\n",
    "## Obtener los datos completos de los departamentos"
   ]
  },
  {
   "cell_type": "code",
   "execution_count": 7,
   "metadata": {},
   "outputs": [
    {
     "name": "stdout",
     "output_type": "stream",
     "text": [
      "Se realizó la consulta\n"
     ]
    }
   ],
   "source": [
    "try:\n",
    "    with conexion.cursor() as cursor:\n",
    "        cursor.execute(\"SELECT * FROM departments;\") # En este caso no necesitamos limpiar ningún dato\n",
    "        print(\"Se realizó la consulta\")\n",
    "        # Con fetchall traemos todas las filas\n",
    "        dpt = cursor.fetchall()\n",
    "except:\n",
    "    print('No se pudo realizar la consulta')"
   ]
  },
  {
   "cell_type": "code",
   "execution_count": 8,
   "metadata": {},
   "outputs": [
    {
     "data": {
      "text/html": [
       "<div>\n",
       "<style scoped>\n",
       "    .dataframe tbody tr th:only-of-type {\n",
       "        vertical-align: middle;\n",
       "    }\n",
       "\n",
       "    .dataframe tbody tr th {\n",
       "        vertical-align: top;\n",
       "    }\n",
       "\n",
       "    .dataframe thead th {\n",
       "        text-align: right;\n",
       "    }\n",
       "</style>\n",
       "<table border=\"1\" class=\"dataframe\">\n",
       "  <thead>\n",
       "    <tr style=\"text-align: right;\">\n",
       "      <th></th>\n",
       "      <th>dept_no</th>\n",
       "      <th>dept_name</th>\n",
       "    </tr>\n",
       "  </thead>\n",
       "  <tbody>\n",
       "    <tr>\n",
       "      <th>0</th>\n",
       "      <td>d010</td>\n",
       "      <td>Ciencia de Datos</td>\n",
       "    </tr>\n",
       "    <tr>\n",
       "      <th>1</th>\n",
       "      <td>d009</td>\n",
       "      <td>Customer Service</td>\n",
       "    </tr>\n",
       "    <tr>\n",
       "      <th>2</th>\n",
       "      <td>d005</td>\n",
       "      <td>Development</td>\n",
       "    </tr>\n",
       "    <tr>\n",
       "      <th>3</th>\n",
       "      <td>d002</td>\n",
       "      <td>Finance</td>\n",
       "    </tr>\n",
       "    <tr>\n",
       "      <th>4</th>\n",
       "      <td>d003</td>\n",
       "      <td>Human Resources</td>\n",
       "    </tr>\n",
       "  </tbody>\n",
       "</table>\n",
       "</div>"
      ],
      "text/plain": [
       "  dept_no         dept_name\n",
       "0    d010  Ciencia de Datos\n",
       "1    d009  Customer Service\n",
       "2    d005       Development\n",
       "3    d002           Finance\n",
       "4    d003   Human Resources"
      ]
     },
     "execution_count": 8,
     "metadata": {},
     "output_type": "execute_result"
    }
   ],
   "source": [
    "dpt = \"SELECT * FROM departments ;\"\n",
    "df_dpt = pd.read_sql_query(dpt, conexion)\n",
    "df_dpt.head()"
   ]
  },
  {
   "cell_type": "markdown",
   "metadata": {},
   "source": [
    "____\n",
    "## Obtenemos los datos de la tabla employees que sean mujeres\n"
   ]
  },
  {
   "cell_type": "code",
   "execution_count": 9,
   "metadata": {},
   "outputs": [
    {
     "name": "stdout",
     "output_type": "stream",
     "text": [
      "Se realizó la consulta\n"
     ]
    }
   ],
   "source": [
    "try:\n",
    "    with conexion.cursor() as cursor:\n",
    "        cursor.execute(\"SELECT * FROM employees WHERE gender ='F';\") \n",
    "        # Con fetchall traemos todas las filas\n",
    "        employees = cursor.fetchall()\n",
    "        print(\"Se realizó la consulta\")\n",
    "except:\n",
    "    print('No se pudo realizar la consulta')"
   ]
  },
  {
   "cell_type": "code",
   "execution_count": 10,
   "metadata": {},
   "outputs": [
    {
     "data": {
      "text/html": [
       "<div>\n",
       "<style scoped>\n",
       "    .dataframe tbody tr th:only-of-type {\n",
       "        vertical-align: middle;\n",
       "    }\n",
       "\n",
       "    .dataframe tbody tr th {\n",
       "        vertical-align: top;\n",
       "    }\n",
       "\n",
       "    .dataframe thead th {\n",
       "        text-align: right;\n",
       "    }\n",
       "</style>\n",
       "<table border=\"1\" class=\"dataframe\">\n",
       "  <thead>\n",
       "    <tr style=\"text-align: right;\">\n",
       "      <th></th>\n",
       "      <th>ID_empleado</th>\n",
       "      <th>Nombre</th>\n",
       "      <th>Genero</th>\n",
       "    </tr>\n",
       "  </thead>\n",
       "  <tbody>\n",
       "    <tr>\n",
       "      <th>0</th>\n",
       "      <td>10002</td>\n",
       "      <td>Bezalel</td>\n",
       "      <td>F</td>\n",
       "    </tr>\n",
       "    <tr>\n",
       "      <th>1</th>\n",
       "      <td>10006</td>\n",
       "      <td>Anneke</td>\n",
       "      <td>F</td>\n",
       "    </tr>\n",
       "    <tr>\n",
       "      <th>2</th>\n",
       "      <td>10007</td>\n",
       "      <td>Tzvetan</td>\n",
       "      <td>F</td>\n",
       "    </tr>\n",
       "    <tr>\n",
       "      <th>3</th>\n",
       "      <td>10009</td>\n",
       "      <td>Sumant</td>\n",
       "      <td>F</td>\n",
       "    </tr>\n",
       "    <tr>\n",
       "      <th>4</th>\n",
       "      <td>10010</td>\n",
       "      <td>Duangkaew</td>\n",
       "      <td>F</td>\n",
       "    </tr>\n",
       "  </tbody>\n",
       "</table>\n",
       "</div>"
      ],
      "text/plain": [
       "   ID_empleado     Nombre Genero\n",
       "0        10002    Bezalel      F\n",
       "1        10006     Anneke      F\n",
       "2        10007    Tzvetan      F\n",
       "3        10009     Sumant      F\n",
       "4        10010  Duangkaew      F"
      ]
     },
     "execution_count": 10,
     "metadata": {},
     "output_type": "execute_result"
    }
   ],
   "source": [
    "emp_F = \"SELECT emp_no AS ID_empleado, first_name AS Nombre, gender AS Genero FROM employees WHERE gender ='F';\"\n",
    "df_F = pd.read_sql_query(emp_F, conexion)\n",
    "df_F.head()\n"
   ]
  },
  {
   "cell_type": "markdown",
   "metadata": {},
   "source": [
    "____\n",
    "## Obtener la cantidad de empleados de sexo femenino."
   ]
  },
  {
   "cell_type": "code",
   "execution_count": 11,
   "metadata": {},
   "outputs": [
    {
     "name": "stdout",
     "output_type": "stream",
     "text": [
      "\n",
      "La cantidad de empleadas mujeres son:  (120051,)\n"
     ]
    }
   ],
   "source": [
    "try:\n",
    "    with conexion.cursor() as cursor:\n",
    "        cursor.execute(\"SELECT COUNT(*) FROM employees WHERE gender ='F';\")\n",
    "        # Con fetchall traemos todas las filas\n",
    "        employees = cursor.fetchone()\n",
    "        print(\"\\nLa cantidad de empleadas mujeres son: \", employees)\n",
    "except:\n",
    "    print('No se pudo realizar la consulta')\n"
   ]
  },
  {
   "cell_type": "markdown",
   "metadata": {},
   "source": [
    "_____\n",
    "## Obtener los empleados que son o han sido \"Staff\". Recordar que es una consulta multi tablas."
   ]
  },
  {
   "cell_type": "code",
   "execution_count": 12,
   "metadata": {},
   "outputs": [
    {
     "name": "stdout",
     "output_type": "stream",
     "text": [
      "Se realizó la consulta\n"
     ]
    }
   ],
   "source": [
    "try:\n",
    "    with conexion.cursor() as cursor:\n",
    "        cursor.execute(\"SELECT e.emp_no, birth_date, first_name, last_name, gender, hire_date, title FROM employees AS e JOIN titles AS t ON e.emp_no = t.emp_no WHERE t.title = 'Staff';\")\n",
    "        # Con fetchall traemos todas las filas\n",
    "        employees = cursor.fetchall()\n",
    "        print(\"Se realizó la consulta\")\n",
    "except:\n",
    "    print('No se pudo realizar la consulta')"
   ]
  },
  {
   "cell_type": "code",
   "execution_count": 13,
   "metadata": {},
   "outputs": [
    {
     "data": {
      "text/html": [
       "<div>\n",
       "<style scoped>\n",
       "    .dataframe tbody tr th:only-of-type {\n",
       "        vertical-align: middle;\n",
       "    }\n",
       "\n",
       "    .dataframe tbody tr th {\n",
       "        vertical-align: top;\n",
       "    }\n",
       "\n",
       "    .dataframe thead th {\n",
       "        text-align: right;\n",
       "    }\n",
       "</style>\n",
       "<table border=\"1\" class=\"dataframe\">\n",
       "  <thead>\n",
       "    <tr style=\"text-align: right;\">\n",
       "      <th></th>\n",
       "      <th>emp_no</th>\n",
       "      <th>birth_date</th>\n",
       "      <th>first_name</th>\n",
       "      <th>last_name</th>\n",
       "      <th>gender</th>\n",
       "      <th>hire_date</th>\n",
       "      <th>title</th>\n",
       "    </tr>\n",
       "  </thead>\n",
       "  <tbody>\n",
       "    <tr>\n",
       "      <th>0</th>\n",
       "      <td>10002</td>\n",
       "      <td>1964-06-02</td>\n",
       "      <td>Bezalel</td>\n",
       "      <td>Simmel</td>\n",
       "      <td>F</td>\n",
       "      <td>1985-11-21</td>\n",
       "      <td>Staff</td>\n",
       "    </tr>\n",
       "    <tr>\n",
       "      <th>1</th>\n",
       "      <td>10005</td>\n",
       "      <td>1955-01-21</td>\n",
       "      <td>Kyoichi</td>\n",
       "      <td>Maliniak</td>\n",
       "      <td>M</td>\n",
       "      <td>1989-09-12</td>\n",
       "      <td>Staff</td>\n",
       "    </tr>\n",
       "    <tr>\n",
       "      <th>2</th>\n",
       "      <td>10007</td>\n",
       "      <td>1957-05-23</td>\n",
       "      <td>Tzvetan</td>\n",
       "      <td>Zielinski</td>\n",
       "      <td>F</td>\n",
       "      <td>1989-02-10</td>\n",
       "      <td>Staff</td>\n",
       "    </tr>\n",
       "    <tr>\n",
       "      <th>3</th>\n",
       "      <td>10011</td>\n",
       "      <td>1953-11-07</td>\n",
       "      <td>Mary</td>\n",
       "      <td>Sluis</td>\n",
       "      <td>F</td>\n",
       "      <td>1990-01-22</td>\n",
       "      <td>Staff</td>\n",
       "    </tr>\n",
       "    <tr>\n",
       "      <th>4</th>\n",
       "      <td>10016</td>\n",
       "      <td>1961-05-02</td>\n",
       "      <td>Kazuhito</td>\n",
       "      <td>Cappelletti</td>\n",
       "      <td>M</td>\n",
       "      <td>1995-01-27</td>\n",
       "      <td>Staff</td>\n",
       "    </tr>\n",
       "  </tbody>\n",
       "</table>\n",
       "</div>"
      ],
      "text/plain": [
       "   emp_no  birth_date first_name    last_name gender   hire_date  title\n",
       "0   10002  1964-06-02    Bezalel       Simmel      F  1985-11-21  Staff\n",
       "1   10005  1955-01-21    Kyoichi     Maliniak      M  1989-09-12  Staff\n",
       "2   10007  1957-05-23    Tzvetan    Zielinski      F  1989-02-10  Staff\n",
       "3   10011  1953-11-07       Mary        Sluis      F  1990-01-22  Staff\n",
       "4   10016  1961-05-02   Kazuhito  Cappelletti      M  1995-01-27  Staff"
      ]
     },
     "execution_count": 13,
     "metadata": {},
     "output_type": "execute_result"
    }
   ],
   "source": [
    "emp_Staff = \"SELECT e.emp_no, birth_date, first_name, last_name, gender, hire_date, title FROM employees AS e JOIN titles AS t ON e.emp_no = t.emp_no WHERE t.title = 'Staff';\"\n",
    "df_emp_Staff = pd.read_sql_query(emp_Staff, conexion)\n",
    "df_emp_Staff.head()"
   ]
  },
  {
   "cell_type": "markdown",
   "metadata": {},
   "source": [
    "____\n",
    "## Agregar el departamento Ciencia de Datos"
   ]
  },
  {
   "cell_type": "code",
   "execution_count": 14,
   "metadata": {},
   "outputs": [
    {
     "name": "stdout",
     "output_type": "stream",
     "text": [
      "No se pudo cargar el dato\n"
     ]
    }
   ],
   "source": [
    "try:\n",
    "    with conexion.cursor() as cursor:\n",
    "        consulta = \"INSERT INTO departments (dept_no, dept_name) VALUES (%s, %s);\"\n",
    "        cursor.execute(consulta, ('d010','Ciencia de Datos'))\n",
    "    conexion.commit()\n",
    "    print(\"El dato se insertó correctamente\")\n",
    "except:\n",
    "    print('No se pudo cargar el dato')"
   ]
  },
  {
   "cell_type": "code",
   "execution_count": 15,
   "metadata": {},
   "outputs": [
    {
     "data": {
      "text/html": [
       "<div>\n",
       "<style scoped>\n",
       "    .dataframe tbody tr th:only-of-type {\n",
       "        vertical-align: middle;\n",
       "    }\n",
       "\n",
       "    .dataframe tbody tr th {\n",
       "        vertical-align: top;\n",
       "    }\n",
       "\n",
       "    .dataframe thead th {\n",
       "        text-align: right;\n",
       "    }\n",
       "</style>\n",
       "<table border=\"1\" class=\"dataframe\">\n",
       "  <thead>\n",
       "    <tr style=\"text-align: right;\">\n",
       "      <th></th>\n",
       "      <th>dept_no</th>\n",
       "      <th>dept_name</th>\n",
       "    </tr>\n",
       "  </thead>\n",
       "  <tbody>\n",
       "    <tr>\n",
       "      <th>0</th>\n",
       "      <td>d010</td>\n",
       "      <td>Ciencia de Datos</td>\n",
       "    </tr>\n",
       "  </tbody>\n",
       "</table>\n",
       "</div>"
      ],
      "text/plain": [
       "  dept_no         dept_name\n",
       "0    d010  Ciencia de Datos"
      ]
     },
     "execution_count": 15,
     "metadata": {},
     "output_type": "execute_result"
    }
   ],
   "source": [
    "dpt_DS = \"SELECT dept_no, dept_name FROM departments WHERE dept_name = 'Ciencia de Datos'; \"\n",
    "df_dpt_DS = pd.read_sql_query(dpt_DS, conexion)\n",
    "df_dpt_DS.head()"
   ]
  },
  {
   "cell_type": "markdown",
   "metadata": {},
   "source": [
    "______\n",
    "## Insertamos un valor en la tabla employees\n"
   ]
  },
  {
   "cell_type": "code",
   "execution_count": 16,
   "metadata": {},
   "outputs": [
    {
     "name": "stdout",
     "output_type": "stream",
     "text": [
      "El dato se ingresó correctamente\n"
     ]
    }
   ],
   "source": [
    "try:\n",
    "    with conexion.cursor() as cursor:\n",
    "        consulta = \"INSERT INTO employees(emp_no, birth_date, first_name, last_name, gender, hire_date) VALUES (%s, %s, %s, %s, %s, %s);\"\n",
    "        # Podemos llamar muchas veces a .execute con datos distintos\n",
    "        cursor.execute(consulta, ('00001', '1985-01-01','Pepe', 'Pe', 'M', '1985-01-01'))\n",
    "    conexion.commit()\n",
    "    print(\"El dato se ingresó correctamente\")\n",
    "except:\n",
    "    print('No se pudo cargar el dato')\n"
   ]
  },
  {
   "cell_type": "code",
   "execution_count": 17,
   "metadata": {},
   "outputs": [
    {
     "data": {
      "text/html": [
       "<div>\n",
       "<style scoped>\n",
       "    .dataframe tbody tr th:only-of-type {\n",
       "        vertical-align: middle;\n",
       "    }\n",
       "\n",
       "    .dataframe tbody tr th {\n",
       "        vertical-align: top;\n",
       "    }\n",
       "\n",
       "    .dataframe thead th {\n",
       "        text-align: right;\n",
       "    }\n",
       "</style>\n",
       "<table border=\"1\" class=\"dataframe\">\n",
       "  <thead>\n",
       "    <tr style=\"text-align: right;\">\n",
       "      <th></th>\n",
       "      <th>emp_no</th>\n",
       "      <th>birth_date</th>\n",
       "      <th>first_name</th>\n",
       "      <th>last_name</th>\n",
       "      <th>gender</th>\n",
       "      <th>hire_date</th>\n",
       "    </tr>\n",
       "  </thead>\n",
       "  <tbody>\n",
       "    <tr>\n",
       "      <th>0</th>\n",
       "      <td>1</td>\n",
       "      <td>1985-01-01</td>\n",
       "      <td>Pepe</td>\n",
       "      <td>Pe</td>\n",
       "      <td>M</td>\n",
       "      <td>1985-01-01</td>\n",
       "    </tr>\n",
       "  </tbody>\n",
       "</table>\n",
       "</div>"
      ],
      "text/plain": [
       "   emp_no  birth_date first_name last_name gender   hire_date\n",
       "0       1  1985-01-01       Pepe        Pe      M  1985-01-01"
      ]
     },
     "execution_count": 17,
     "metadata": {},
     "output_type": "execute_result"
    }
   ],
   "source": [
    "emp_Pepe = \"SELECT emp_no, birth_date, first_name, last_name, gender, hire_date FROM employees WHERE emp_no = '00001'; \"\n",
    "df_F = pd.read_sql_query(emp_Pepe, conexion)\n",
    "df_F.head()"
   ]
  },
  {
   "cell_type": "markdown",
   "metadata": {},
   "source": [
    "___\n",
    "\n",
    "## Borrar el empleado \"Pepe\""
   ]
  },
  {
   "cell_type": "code",
   "execution_count": 18,
   "metadata": {},
   "outputs": [
    {
     "name": "stdout",
     "output_type": "stream",
     "text": [
      "El dato se eliminó correctamente\n"
     ]
    }
   ],
   "source": [
    "try:\n",
    "    with conexion.cursor() as cursor:\n",
    "        consulta = \"DELETE FROM employees WHERE first_name = %s;\"\n",
    "        first_name = 'Pepe'\n",
    "        # Podemos llamar muchas veces a .execute con datos distintos\n",
    "        cursor.execute(consulta, (first_name))\n",
    "    conexion.commit()\n",
    "    print(\"El dato se eliminó correctamente\")\n",
    "except:\n",
    "    print('No se pudo eliminar el dato')"
   ]
  },
  {
   "cell_type": "code",
   "execution_count": 19,
   "metadata": {},
   "outputs": [
    {
     "data": {
      "text/html": [
       "<div>\n",
       "<style scoped>\n",
       "    .dataframe tbody tr th:only-of-type {\n",
       "        vertical-align: middle;\n",
       "    }\n",
       "\n",
       "    .dataframe tbody tr th {\n",
       "        vertical-align: top;\n",
       "    }\n",
       "\n",
       "    .dataframe thead th {\n",
       "        text-align: right;\n",
       "    }\n",
       "</style>\n",
       "<table border=\"1\" class=\"dataframe\">\n",
       "  <thead>\n",
       "    <tr style=\"text-align: right;\">\n",
       "      <th></th>\n",
       "      <th>emp_no</th>\n",
       "      <th>birth_date</th>\n",
       "      <th>first_name</th>\n",
       "      <th>last_name</th>\n",
       "      <th>gender</th>\n",
       "      <th>hire_date</th>\n",
       "    </tr>\n",
       "  </thead>\n",
       "  <tbody>\n",
       "  </tbody>\n",
       "</table>\n",
       "</div>"
      ],
      "text/plain": [
       "Empty DataFrame\n",
       "Columns: [emp_no, birth_date, first_name, last_name, gender, hire_date]\n",
       "Index: []"
      ]
     },
     "execution_count": 19,
     "metadata": {},
     "output_type": "execute_result"
    }
   ],
   "source": [
    "emp_PepeDS = \"SELECT * FROM employees WHERE first_name = 'Pepe'; \"\n",
    "df_emp_PepeDS = pd.read_sql_query(emp_PepeDS, conexion)\n",
    "df_emp_PepeDS.head()"
   ]
  },
  {
   "cell_type": "markdown",
   "metadata": {},
   "source": [
    "_____\n",
    "## Obtener el promedio de salarios por departamento.\n"
   ]
  },
  {
   "cell_type": "code",
   "execution_count": 20,
   "metadata": {},
   "outputs": [
    {
     "name": "stdout",
     "output_type": "stream",
     "text": [
      "Se realizó la consulta\n"
     ]
    }
   ],
   "source": [
    "try:\n",
    "    with conexion.cursor() as cursor:\n",
    "        consulta = \"SELECT departments.dept_name as nombre_dpto, AVG(salaries.salary) as promedio_salario FROM departments  LEFT JOIN dept_emp ON dept_emp.dept_no = departments.dept_no LEFT JOIN employees ON dept_emp.emp_no = employees.emp_no LEFT JOIN salaries ON salaries.emp_no = employees.emp_no GROUP BY departments.dept_name;\"\n",
    "        cursor.execute(consulta)\n",
    "        employees = cursor.fetchall()\n",
    "        print(\"Se realizó la consulta\")\n",
    "except:\n",
    "    print('No se pudo realizar la consulta')"
   ]
  },
  {
   "cell_type": "code",
   "execution_count": 21,
   "metadata": {},
   "outputs": [
    {
     "data": {
      "text/html": [
       "<div>\n",
       "<style scoped>\n",
       "    .dataframe tbody tr th:only-of-type {\n",
       "        vertical-align: middle;\n",
       "    }\n",
       "\n",
       "    .dataframe tbody tr th {\n",
       "        vertical-align: top;\n",
       "    }\n",
       "\n",
       "    .dataframe thead th {\n",
       "        text-align: right;\n",
       "    }\n",
       "</style>\n",
       "<table border=\"1\" class=\"dataframe\">\n",
       "  <thead>\n",
       "    <tr style=\"text-align: right;\">\n",
       "      <th></th>\n",
       "      <th>nombre_dpto</th>\n",
       "      <th>promedio_salario</th>\n",
       "    </tr>\n",
       "  </thead>\n",
       "  <tbody>\n",
       "    <tr>\n",
       "      <th>0</th>\n",
       "      <td>Ciencia de Datos</td>\n",
       "      <td>NaN</td>\n",
       "    </tr>\n",
       "    <tr>\n",
       "      <th>1</th>\n",
       "      <td>Customer Service</td>\n",
       "      <td>58770.3665</td>\n",
       "    </tr>\n",
       "    <tr>\n",
       "      <th>2</th>\n",
       "      <td>Development</td>\n",
       "      <td>59478.9012</td>\n",
       "    </tr>\n",
       "    <tr>\n",
       "      <th>3</th>\n",
       "      <td>Finance</td>\n",
       "      <td>70489.3649</td>\n",
       "    </tr>\n",
       "    <tr>\n",
       "      <th>4</th>\n",
       "      <td>Human Resources</td>\n",
       "      <td>55574.8794</td>\n",
       "    </tr>\n",
       "    <tr>\n",
       "      <th>5</th>\n",
       "      <td>Marketing</td>\n",
       "      <td>71913.2000</td>\n",
       "    </tr>\n",
       "    <tr>\n",
       "      <th>6</th>\n",
       "      <td>Production</td>\n",
       "      <td>59605.4825</td>\n",
       "    </tr>\n",
       "    <tr>\n",
       "      <th>7</th>\n",
       "      <td>Quality Management</td>\n",
       "      <td>57251.2719</td>\n",
       "    </tr>\n",
       "    <tr>\n",
       "      <th>8</th>\n",
       "      <td>Research</td>\n",
       "      <td>59665.1817</td>\n",
       "    </tr>\n",
       "    <tr>\n",
       "      <th>9</th>\n",
       "      <td>Sales</td>\n",
       "      <td>80667.6058</td>\n",
       "    </tr>\n",
       "  </tbody>\n",
       "</table>\n",
       "</div>"
      ],
      "text/plain": [
       "          nombre_dpto  promedio_salario\n",
       "0    Ciencia de Datos               NaN\n",
       "1    Customer Service        58770.3665\n",
       "2         Development        59478.9012\n",
       "3             Finance        70489.3649\n",
       "4     Human Resources        55574.8794\n",
       "5           Marketing        71913.2000\n",
       "6          Production        59605.4825\n",
       "7  Quality Management        57251.2719\n",
       "8            Research        59665.1817\n",
       "9               Sales        80667.6058"
      ]
     },
     "execution_count": 21,
     "metadata": {},
     "output_type": "execute_result"
    }
   ],
   "source": [
    "emp_avgSalary = \"SELECT departments.dept_name as nombre_dpto, AVG(salaries.salary) as promedio_salario FROM departments  LEFT JOIN dept_emp ON dept_emp.dept_no = departments.dept_no LEFT JOIN employees ON dept_emp.emp_no = employees.emp_no LEFT JOIN salaries ON salaries.emp_no = employees.emp_no GROUP BY departments.dept_name;\"\n",
    "df_emp_avgSalary = pd.read_sql_query(emp_avgSalary, conexion)\n",
    "df_emp_avgSalary.head(10)"
   ]
  },
  {
   "cell_type": "markdown",
   "metadata": {},
   "source": [
    "## Preguntas para reflexionar:\n",
    "\n",
    "1. Se podrán percatar de los retardos en la carga de datos.\n",
    "2. Cuando que quieran cargar los sueldos, habrá problemas también.\n"
   ]
  },
  {
   "cell_type": "markdown",
   "metadata": {},
   "source": [
    "## Ejercicios:\n",
    "\n",
    "1. Cargar en un dataframa los datos de las consultas.\n",
    "\n",
    "2. Elaborar un esquema conceptual para convertir este código a un modelo orientado a objetos.\n",
    "\n",
    "3. Agregar al esquema el modelo de regresión lineal orientado a objetos dado en la [Clase 17](https://github.com/tirthajyoti/Machine-Learning-with-Python/blob/master/OOP_in_ML/Class_MyLinearRegression.ipynb).\n",
    "\n"
   ]
  }
 ],
 "metadata": {
  "interpreter": {
   "hash": "f0402159d711d0052a3e7bca0b7351e58d575a60ee4ba99fae509d4e59c9db22"
  },
  "kernelspec": {
   "display_name": "Python 3.8.10 64-bit ('jupyter': venv)",
   "name": "python3"
  },
  "language_info": {
   "codemirror_mode": {
    "name": "ipython",
    "version": 3
   },
   "file_extension": ".py",
   "mimetype": "text/x-python",
   "name": "python",
   "nbconvert_exporter": "python",
   "pygments_lexer": "ipython3",
   "version": "3.8.10"
  }
 },
 "nbformat": 4,
 "nbformat_minor": 4
}
