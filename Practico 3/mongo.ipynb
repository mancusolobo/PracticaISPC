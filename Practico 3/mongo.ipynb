{
 "cells": [
  {
   "cell_type": "markdown",
   "metadata": {},
   "source": [
    "# Base de datos NoSql  MongoDB | Python"
   ]
  },
  {
   "cell_type": "markdown",
   "metadata": {},
   "source": [
    "### ¿Qué es una base de datos NoSQL?\n",
    "\n",
    "NoSQL se refiere a una gran variedad de tecnologías de bases de datos que se han desarrollado en respuesta a las necesidades de desarrollo de las aplicaciones modernas:\n",
    "\n",
    "* Los desarrolladores trabajan con aplicaciones que generan enormes volúmenes de datos nuevos y en constante evolución (estructurados, semiestructurados, no estructurados y polimórficos).\n",
    "\n",
    "\n",
    "* Aquellos ciclos de desarrollo en cascada que duraban entre 12 y 18 meses hace tiempo que pasaron a la historia. Ahora se trabaja en equipos pequeños, que realizan sprints de desarrollo ágiles con iteraciones rápidas, y que generan código cada semana o cada quince días, algunos incluso varias veces al día.\n",
    "\n",
    "\n",
    "* Las aplicaciones que antes servían a un conjunto finito de usuarios ahora se proporcionan como servicios, que no solo deben funcionar sin interrupción, sino que además tienen que ser accesibles desde muchos dispositivos distintos y deben poder escalarse a millones de usuarios de todo el mundo.\n",
    "\n",
    "\n",
    "* Organizations are now turning to scale-out architectures using open software technologies, commodity servers and cloud computing instead of large monolithic servers and storage infrastructure.\n",
    "\n",
    "\n",
    "Las bases de datos relacionales no se diseñaron para poder hacer frente a la escalabilidad y agilidad que necesitan las aplicaciones modernas, ni para beneficiarse de los sistemas de almacenamiento básicos y de la potencia de proceso que existen hoy en día."
   ]
  },
  {
   "cell_type": "markdown",
   "metadata": {},
   "source": [
    "### Tipos de bases de datos NoSQL\n",
    "\n",
    "* <b>Bases de datos de documentos:</b> en estas bases de datos se empareja cada clave con una estructura de datos compleja que se denomina 'documento'. Los documentos pueden contener muchos pares de clave-valor distintos, o pares de clave-matriz, o incluso documentos anidados.\n",
    "\n",
    "\n",
    "* <b>Almacenes de grafos:</b> se utilizan para almacenar información sobre redes de datos, como las conexiones sociales. Ejemplos de almacenes de grafos son Neo4J y Giraph.\n",
    "\n",
    "\n",
    "* <b>Almacenes de clave-valor:</b> son las bases de datos NoSQL más simples. Cada elemento de la base de datos se almacena como un nombre de atributo (o «clave»), junto con su valor. Ejemplos de almacenes de clave-valor son Riak y Berkeley DB. En algunos almacenes de clave-valor, como Redis, cada valor puede tener un tipo, como «entero», lo que le añade funcionalidad.\n",
    "\n",
    "\n",
    "* <b>Bases de datos orientadas a columnas:</b> estas bases de datos, como Cassandra o HBase, permiten realizar consultas en grandes conjuntos de datos y almacenan los datos en columnas, en lugar de filas."
   ]
  },
  {
   "cell_type": "markdown",
   "metadata": {},
   "source": [
    "### Esquemas dinámicos.\n",
    "\n",
    "En las bases de datos relacionales es necesario definir los esquemas antes de añadir los datos. Por ejemplo, si desea almacenar datos de clientes, como el número de teléfono, nombre y apellidos, dirección, ciudad y provincia, la base de datos SQL debe conocer de antemano el tipo de datos que va a almacenar.\n",
    "\n",
    "Esto dificulta la agilidad en el desarrollo, porque cada vez que se añaden características, con frecuencia se debe modificar el esquema de la base de datos. Así, si tras varias iteraciones de desarrollo, decide que desea almacenar los artículos favoritos de los clientes además de su dirección y teléfono, deberá añadir esa columna a la base de datos y luego migrar la base de datos entera al nuevo esquema.\n",
    "\n",
    "Si la base de datos es grande, el proceso será muy lento y la actividad quedará interrumpida de forma prolongada. Si cambia a menudo los datos que almacena la aplicación —porque realiza iteraciones rápidamente— también se interrumpirá la actividad de forma frecuente. En las bases relacionales tampoco se pueden incluir datos sin ningún tipo de estructura o desconocidos de antemano.\n",
    "\n",
    "Las bases de datos NoSQL están diseñadas para que se puedan insertar datos sin un esquema predefinido. Por ello resulta fácil realizar modificaciones importantes en las aplicaciones en tiempo real sin interrupciones del servicio, de modo que el desarrollo es más rápido, la integración del código es más fiable y los administradores de las bases de datos tienen menos trabajo. Tradicionalmente, los desarrolladores han tenido que añadir código a la aplicación para realizar controles de calidad de los datos, como, por ejemplo, forzar la presencia de campos, tipos de datos o valores permisibles específicos. Las bases de datos NoSQL, al ser más sofisticadas, permiten la aplicación de las regla de validación en la base de datos, de modo que los usuarios pueden aplicar la gobernanza a los datos, aprovechando la agilidad que ofrece un esquema dinámico."
   ]
  },
  {
   "cell_type": "markdown",
   "metadata": {},
   "source": [
    "## Resumen sobre la comparativa entre NoSQL y SQL\n",
    "\n",
    "\n",
    "link para crear tablas en markdown https://www.tablesgenerator.com/markdown_tables"
   ]
  },
  {
   "cell_type": "markdown",
   "metadata": {},
   "source": [
    "|                                                   |                                                                                                                                                                                                                                                                                                             Bases de datos SQL                                                                                                                                                                                                                                                                                                            |                                                                                                                                                                                                                                                           Bases de datos NoSql                                                                                                                                                                                                                                                           |\n",
    "|:-------------------------------------------------:|:-----------------------------------------------------------------------------------------------------------------------------------------------------------------------------------------------------------------------------------------------------------------------------------------------------------------------------------------------------------------------------------------------------------------------------------------------------------------------------------------------------------------------------------------------------------------------------------------------------------------------------------------:|:----------------------------------------------------------------------------------------------------------------------------------------------------------------------------------------------------------------------------------------------------------------------------------------------------------------------------------------------------------------------------------------------------------------------------------------------------------------------------------------------------------------------------------------:|\n",
    "|                       Tipos                       |                                                                                                                                                                                                                                                                                           Un tipo (base de datos SQL) con pequeñas variaciones.                                                                                                                                                                                                                                                                                           |                                                                                                                                                                                                                      Bases de datos de documentos: bases de datos orientadas a columnas y bases de datos de grafos. https://www.mongodb.com/es/document-databases                                                                                                                                                                                                                      |\n",
    "|            Historia sobre el desarrollo           |                                                                                                                                                                                                                                                          Se desarrollan a finales de la década de 1970 para respaldar la primera ola de aplicaciones de almacenamiento de datos.                                                                                                                                                                                                                                                          |                                                                                                                                                    Se desarrollan a finales de la década de 2000 para superar las limitaciones de las bases de datos SQL, sobre todo en lo relativo a escalabilidad, datos multiestructurados, distribución geográfica y sprints de desarrollo ágiles.                                                                                                                                                   |\n",
    "|                      Ejemplos                     |                                                                                                                                                                                                                                                                                          MySQL, Postgres, Microsoft SQL Server, Oracle Database.                                                                                                                                                                                                                                                                                          |                                                                                                                                                                                                                                                     MongoDB, Cassandra, HBase, Neo4j.                                                                                                                                                                                                                                                    |\n",
    "|         Modelo de almacenamiento de datos         | Los registros individuales (p. ej., «empleados») se almacenan en filas de tablas, y cada columna almacena un dato específico sobre ese registro (p. ej., «director», «fecha de contratación», etc.) al estilo de las hojas de cálculo. Los datos relacionados se almacenan en tablas separadas, y luego se combinan cuando se ejecutan consultas más complejas. Por ejemplo, «oficinas» se puede almacenar en una tabla y «empleados», en otra. Cuando un usuario quiere encontrar la dirección de trabajo de un empleado, el motor de la base de datos une las tablas «empleado» y «oficina» para obtener toda la información necesaria. | Varía en función del tipo de base de datos. Por ejemplo, los almacenes de clave-valor funcionan de forma parecida a las bases de datos SQL, pero solo tienen dos columnas («clave» y «valor»), con información más compleja, que a veces se almacena como objetos BLOB en las columnas «valor». Las bases de datos de documentos evitan por completo el modelo de tablas y filas, almacenando todos los datos relevantes juntos en un único documento en formato JSON, XML u otro formato, que puede anidar valores de forma jerárquica. |\n",
    "|                      Esquemas                     |                                                                                                                                                                                                                      La estructura y los tipos de datos se establecen de entrada. Para almacenar información sobre un nuevo dato, se debe modificar toda la base de datos, que deja de funcionar durante este tiempo.                                                                                                                                                                                                                     |                                           Suelen ser dinámicos, y en ocasiones es necesario aplicar algunas reglas de validación de datos. Las aplicaciones pueden ir añadiendo nuevos campos según convenga y, a diferencia de lo que ocurre con las filas de las tablas SQL, en caso necesario se pueden almacenar juntos datos de naturaleza diferente. Para algunas bases de datos (como las orientadas a columnas), resulta un poco más complicado añadir nuevos campos de forma dinámica.                                          |\n",
    "|                   Escalabilidad                   |                                                                                                          scalado vertical, es decir, es necesario añadir más potencia a un único servidor en caso de que aumente la demanda. Es posible repartir las bases de datos SQL por diferentes servidores, pero es una tarea que requiere una participación importante del equipo de ingeniería, y suelen perderse funcionalidades relacionales básicas como las operaciones JOIN, la integridad de las referencias y las transacciones.                                                                                                          |                                                                                                                                           Escalado horizontal, es decir, para aumentar la capacidad, el administrador de la base de datos solo tiene que añadir servidores básicos o instancias de la nube. La base de los datos distribuye los datos en los servidores según las necesidades.                                                                                                                                           |\n",
    "|                Modelo de desarrollo               |                                                                                                                                                                                                                                                                         Mix of open technologies (e.g., Postgres, MySQL) and closed source (e.g., Oracle Database)                                                                                                                                                                                                                                                                        |                                                                                                                                                                                                                                                             Open technologies                                                                                                                                                                                                                                                            |\n",
    "| Soporta transacciones ACID de registros múltiples |                                                                                                                                                                                                                                                                                                                     Si                                                                                                                                                                                                                                                                                                                    |                                                                                                                                                                                                                      Generalmente no. MongoDB 4.0 y posteriores admiten transacciones ACID de múltiples documentos.                                                                                                                                                                                                                      |\n",
    "|               Manipulación de datos               |                                                                                                                                                                                                                                                              Lenguaje específico que utiliza instrucciones Select, Insert y Update, p. ej., SELECT fields FROM table WHERE...                                                                                                                                                                                                                                                             |                                                                                                                                                                                                                                                   A través de APIs orientadas a objetos                                                                                                                                                                                                                                                  |\n",
    "|                     Coherencia                    |                                                                                                                                                                                                                                                                                            Se puede configurar un nivel de consistencia elevado                                                                                                                                                                                                                                                                                           |                                                                                                                                                                   Depende del producto. Algunos ofrecen una consistencia elevada (p. ej., MongoDB, con consistencia ajustable para las lecturas), mientras que otros ofrecen consistencia eventual (p. ej., Cassandra).                                                                                                                                                                  |"
   ]
  },
  {
   "cell_type": "markdown",
   "metadata": {},
   "source": [
    "### Transacciones ACID y Bases de Datos\n",
    "https://www.arquitecturajava.com/transacciones-acid-y-sus-propiedades/\n",
    "\n",
    "\n",
    "A nivel de base de datos que es lo que nos interesa a los desarrolladores una Transacción debe cumplir con el acrónimo ACID  (Atomic,Consistent, Isolated, Durable) . Vamos a explicar estos términos uno a uno para entenderlos mejor.\n",
    "\n",
    "### Ejemplo de transacción:\n",
    "Por ejemplo la compra de un producto. Cuando nosotros compramos un producto realizamos un pago de un importe (100 euros) y a cambio recibimos el producto . Se trata de una operación que incluye dos pasos y estos no se pueden dividir o se ejecutan ambos o no se ejecuta ninguno. Ese es el concepto de transacción a grosso modo.\n",
    "\n",
    "<b>Atomic:</b> Una transacción debe ser atómica y por lo tanto indivisible. Esto hace referencia a la compra que hemos comentado anteriormente. Pero también implica que no necesariamente tienen que ser solo 2 pasos sino que pueden ser 10 tranquilamente. Lo que aquí implica es que no se pueden dividir es decir si yo compro 10 cosas o las compro todas y pago o no compro ninguna y no pago nada. Ese es el concepto de Atómico o indivisible.\n",
    "\n",
    "<b>Consistent:</b> Una transacción debe ser consistente en cuanto a la gestión de la información es decir si yo compro 3 productos que cuestan en total 100 eruros. No puede ser que me lleguen 2 productos o no puede ser que me lleguen 3 pero que pague 200 euros. La información que se ejecuta dentro de una transacción debe guardar consistencia.\n",
    "\n",
    "<b>Isolated:</b> Una transacción aparte de ser atómica esta aislada del resto y se ejecuta de forma independiente es decir no le afectan otros cambios que se produzcan en la base de datos.\n",
    "\n",
    "<b>Durable:</b> Los cambios persisten con el tiempo es decir no son cambios “temporales” sino que cuando la transacción termina han sido persistidos en la base de datos y se se produce en ese momento un fallo , los datos ya han sido salvados a disco.\n",
    "\n"
   ]
  },
  {
   "cell_type": "markdown",
   "metadata": {},
   "source": [
    "### Ventajas de NoSQL\n",
    "\n",
    "Si se comparan con las bases de datos relacionales, las bases de datos NoSQL son más escalables y ofrecen un mayor rendimiento; además, su modelo de datos aborda varias cuestiones que el modelo relacional pasa por alto:\n",
    "\n",
    "* Grandes volúmenes de datos estructurados, semiestructurados y no estructurados en constante cambio\n",
    "\n",
    "\n",
    "* Sprints de desarrollo ágiles, iteración rápida de los esquemas y generación frecuente de código\n",
    "\n",
    "\n",
    "* Programación orientada a objetos flexible y fácil de usar\n",
    "\n",
    "\n",
    "* Arquitectura de escalado horizontal distribuida geográficamente, en lugar de una arquitectura monolítica"
   ]
  },
  {
   "cell_type": "markdown",
   "metadata": {},
   "source": [
    "### Desventajas de una base de datos NoSQL\n",
    "\n",
    "* No todas las bases de datos NoSQL contemplan la atomicidad de las instrucciones y la integridad de los datos. Soportan lo que se llama consistencia eventual.\n",
    "\n",
    "\n",
    "* Problemas de compatibilidad entre instrucciones SQL. Las nuevas bases de datos utilizan sus propias características en el lenguaje de consulta y no son 100% compatibles con el SQL de las bases de datos relacionales. El soporte a problemas con las queries de trabajo en una base de datos NoSQL es más complicado.\n",
    "\n",
    "\n",
    "* Falta de estandarización. Hay muchas bases de datos NoSQL y aún no hay un estándar como sí lo hay en las bases de datos relacionales. Se presume un futuro incierto en estas bases de datos.\n",
    "\n",
    "\n",
    "* Soporte multiplataforma. Aún quedan muchas mejoras en algunos sistemas para que soporten sistemas operativos que no sean Linux.\n",
    "\n",
    "\n",
    "* Suelen tener herramientas de administración no muy usables o se accede por consola.\n"
   ]
  },
  {
   "cell_type": "markdown",
   "metadata": {},
   "source": [
    "## Basic CRUD operations with MongoDB using Python\n",
    "\n",
    "C = create\n",
    "R = read\n",
    "U = update\n",
    "D = delete\n",
    "\n",
    "https://nbviewer.jupyter.org/github/sinju-pau/Machine-Learning-BigData-and-Databases/blob/master/MongoDBinPython.ipynb\n"
   ]
  },
  {
   "cell_type": "markdown",
   "metadata": {},
   "source": [
    "## Ejercicio\n",
    "\n",
    "Determinar como obtener los datos, y porque no inserta en MongoDB\n",
    "\n",
    "Completar el código desde el link propuesto"
   ]
  },
  {
   "cell_type": "code",
   "execution_count": 1,
   "metadata": {},
   "outputs": [],
   "source": [
    "#Imports\n",
    "import pymongo\n",
    "import pandas as pd"
   ]
  },
  {
   "cell_type": "code",
   "execution_count": 2,
   "metadata": {},
   "outputs": [],
   "source": [
    "#Conexión a MongoDB\n",
    "client = pymongo.MongoClient('localhost',27017)\n",
    "db = client['mongo']"
   ]
  },
  {
   "cell_type": "code",
   "execution_count": 3,
   "metadata": {},
   "outputs": [],
   "source": [
    "#Colección\n",
    "collection = db['income']"
   ]
  },
  {
   "cell_type": "code",
   "execution_count": 5,
   "metadata": {},
   "outputs": [
    {
     "data": {
      "text/plain": [
       "\"'age', 'workclass', 'fnlwgt', 'education', 'education-num', 'marital-status', 'occupation', 'relationship', 'race', 'sex', 'capital-gain', 'capital-loss', 'hours-per-week', 'native-country','label'\""
      ]
     },
     "execution_count": 5,
     "metadata": {},
     "output_type": "execute_result"
    }
   ],
   "source": [
    "#Lee un archivo, \n",
    "#Para que? Rta: Para obtener los nombres del encabezado\n",
    "#Donde está este archivo? Rta: en el directorio raiz\n",
    "#Como proceder para continuar con el programa??\n",
    "#Rta: creamos un df sin encabezado\n",
    "#luego con el metodo columns de df agregamos encabezado la lista que creamos a partir del archivo 'income_header'\n",
    "#Seguido, convertimos a formato dict y se agregó a la coleccion usando el metodo de agregar por lotes\n",
    "\n",
    "with open('income_header.txt') as finput:\n",
    "    column_names = finput.readline()\n",
    "column_names"
   ]
  },
  {
   "cell_type": "code",
   "execution_count": 6,
   "metadata": {},
   "outputs": [
    {
     "data": {
      "text/plain": [
       "[\"'age'\",\n",
       " \" 'workclass'\",\n",
       " \" 'fnlwgt'\",\n",
       " \" 'education'\",\n",
       " \" 'education-num'\",\n",
       " \" 'marital-status'\",\n",
       " \" 'occupation'\",\n",
       " \" 'relationship'\",\n",
       " \" 'race'\",\n",
       " \" 'sex'\",\n",
       " \" 'capital-gain'\",\n",
       " \" 'capital-loss'\",\n",
       " \" 'hours-per-week'\",\n",
       " \" 'native-country'\",\n",
       " \"'label'\"]"
      ]
     },
     "execution_count": 6,
     "metadata": {},
     "output_type": "execute_result"
    }
   ],
   "source": [
    "column_names_list = column_names.split(',')\n",
    "column_names_list"
   ]
  },
  {
   "cell_type": "code",
   "execution_count": 10,
   "metadata": {},
   "outputs": [],
   "source": [
    "#with open('income.txt')as finput:\n",
    "with open('adult.data')as finput:\n",
    "    for line in finput:\n",
    "        row_list =line.rstrip('\\n').split(',')\n",
    "        row_dict = dict(zip(column_names_list,row_list))\n",
    "        try:\n",
    "            row_dict['age']= int(row_dict['age'])\n",
    "            collection.insert_one(row_dict)\n",
    "        except:\n",
    "            pass\n",
    "finput.close()"
   ]
  },
  {
   "cell_type": "code",
   "execution_count": 28,
   "metadata": {
    "scrolled": true
   },
   "outputs": [
    {
     "data": {
      "text/html": [
       "<div>\n",
       "<style scoped>\n",
       "    .dataframe tbody tr th:only-of-type {\n",
       "        vertical-align: middle;\n",
       "    }\n",
       "\n",
       "    .dataframe tbody tr th {\n",
       "        vertical-align: top;\n",
       "    }\n",
       "\n",
       "    .dataframe thead th {\n",
       "        text-align: right;\n",
       "    }\n",
       "</style>\n",
       "<table border=\"1\" class=\"dataframe\">\n",
       "  <thead>\n",
       "    <tr style=\"text-align: right;\">\n",
       "      <th></th>\n",
       "      <th>'age'</th>\n",
       "      <th>'workclass'</th>\n",
       "      <th>'fnlwgt'</th>\n",
       "      <th>'education'</th>\n",
       "      <th>'education-num'</th>\n",
       "      <th>'marital-status'</th>\n",
       "      <th>'occupation'</th>\n",
       "      <th>'relationship'</th>\n",
       "      <th>'race'</th>\n",
       "      <th>'sex'</th>\n",
       "      <th>'capital-gain'</th>\n",
       "      <th>'capital-loss'</th>\n",
       "      <th>'hours-per-week'</th>\n",
       "      <th>'native-country'</th>\n",
       "      <th>'label'</th>\n",
       "    </tr>\n",
       "  </thead>\n",
       "  <tbody>\n",
       "    <tr>\n",
       "      <th>0</th>\n",
       "      <td>39</td>\n",
       "      <td>State-gov</td>\n",
       "      <td>77516</td>\n",
       "      <td>Bachelors</td>\n",
       "      <td>13</td>\n",
       "      <td>Never-married</td>\n",
       "      <td>Adm-clerical</td>\n",
       "      <td>Not-in-family</td>\n",
       "      <td>White</td>\n",
       "      <td>Male</td>\n",
       "      <td>2174</td>\n",
       "      <td>0</td>\n",
       "      <td>40</td>\n",
       "      <td>United-States</td>\n",
       "      <td>&lt;=50K</td>\n",
       "    </tr>\n",
       "    <tr>\n",
       "      <th>1</th>\n",
       "      <td>50</td>\n",
       "      <td>Self-emp-not-inc</td>\n",
       "      <td>83311</td>\n",
       "      <td>Bachelors</td>\n",
       "      <td>13</td>\n",
       "      <td>Married-civ-spouse</td>\n",
       "      <td>Exec-managerial</td>\n",
       "      <td>Husband</td>\n",
       "      <td>White</td>\n",
       "      <td>Male</td>\n",
       "      <td>0</td>\n",
       "      <td>0</td>\n",
       "      <td>13</td>\n",
       "      <td>United-States</td>\n",
       "      <td>&lt;=50K</td>\n",
       "    </tr>\n",
       "    <tr>\n",
       "      <th>2</th>\n",
       "      <td>38</td>\n",
       "      <td>Private</td>\n",
       "      <td>215646</td>\n",
       "      <td>HS-grad</td>\n",
       "      <td>9</td>\n",
       "      <td>Divorced</td>\n",
       "      <td>Handlers-cleaners</td>\n",
       "      <td>Not-in-family</td>\n",
       "      <td>White</td>\n",
       "      <td>Male</td>\n",
       "      <td>0</td>\n",
       "      <td>0</td>\n",
       "      <td>40</td>\n",
       "      <td>United-States</td>\n",
       "      <td>&lt;=50K</td>\n",
       "    </tr>\n",
       "    <tr>\n",
       "      <th>3</th>\n",
       "      <td>53</td>\n",
       "      <td>Private</td>\n",
       "      <td>234721</td>\n",
       "      <td>11th</td>\n",
       "      <td>7</td>\n",
       "      <td>Married-civ-spouse</td>\n",
       "      <td>Handlers-cleaners</td>\n",
       "      <td>Husband</td>\n",
       "      <td>Black</td>\n",
       "      <td>Male</td>\n",
       "      <td>0</td>\n",
       "      <td>0</td>\n",
       "      <td>40</td>\n",
       "      <td>United-States</td>\n",
       "      <td>&lt;=50K</td>\n",
       "    </tr>\n",
       "    <tr>\n",
       "      <th>4</th>\n",
       "      <td>28</td>\n",
       "      <td>Private</td>\n",
       "      <td>338409</td>\n",
       "      <td>Bachelors</td>\n",
       "      <td>13</td>\n",
       "      <td>Married-civ-spouse</td>\n",
       "      <td>Prof-specialty</td>\n",
       "      <td>Wife</td>\n",
       "      <td>Black</td>\n",
       "      <td>Female</td>\n",
       "      <td>0</td>\n",
       "      <td>0</td>\n",
       "      <td>40</td>\n",
       "      <td>Cuba</td>\n",
       "      <td>&lt;=50K</td>\n",
       "    </tr>\n",
       "    <tr>\n",
       "      <th>...</th>\n",
       "      <td>...</td>\n",
       "      <td>...</td>\n",
       "      <td>...</td>\n",
       "      <td>...</td>\n",
       "      <td>...</td>\n",
       "      <td>...</td>\n",
       "      <td>...</td>\n",
       "      <td>...</td>\n",
       "      <td>...</td>\n",
       "      <td>...</td>\n",
       "      <td>...</td>\n",
       "      <td>...</td>\n",
       "      <td>...</td>\n",
       "      <td>...</td>\n",
       "      <td>...</td>\n",
       "    </tr>\n",
       "    <tr>\n",
       "      <th>32556</th>\n",
       "      <td>27</td>\n",
       "      <td>Private</td>\n",
       "      <td>257302</td>\n",
       "      <td>Assoc-acdm</td>\n",
       "      <td>12</td>\n",
       "      <td>Married-civ-spouse</td>\n",
       "      <td>Tech-support</td>\n",
       "      <td>Wife</td>\n",
       "      <td>White</td>\n",
       "      <td>Female</td>\n",
       "      <td>0</td>\n",
       "      <td>0</td>\n",
       "      <td>38</td>\n",
       "      <td>United-States</td>\n",
       "      <td>&lt;=50K</td>\n",
       "    </tr>\n",
       "    <tr>\n",
       "      <th>32557</th>\n",
       "      <td>40</td>\n",
       "      <td>Private</td>\n",
       "      <td>154374</td>\n",
       "      <td>HS-grad</td>\n",
       "      <td>9</td>\n",
       "      <td>Married-civ-spouse</td>\n",
       "      <td>Machine-op-inspct</td>\n",
       "      <td>Husband</td>\n",
       "      <td>White</td>\n",
       "      <td>Male</td>\n",
       "      <td>0</td>\n",
       "      <td>0</td>\n",
       "      <td>40</td>\n",
       "      <td>United-States</td>\n",
       "      <td>&gt;50K</td>\n",
       "    </tr>\n",
       "    <tr>\n",
       "      <th>32558</th>\n",
       "      <td>58</td>\n",
       "      <td>Private</td>\n",
       "      <td>151910</td>\n",
       "      <td>HS-grad</td>\n",
       "      <td>9</td>\n",
       "      <td>Widowed</td>\n",
       "      <td>Adm-clerical</td>\n",
       "      <td>Unmarried</td>\n",
       "      <td>White</td>\n",
       "      <td>Female</td>\n",
       "      <td>0</td>\n",
       "      <td>0</td>\n",
       "      <td>40</td>\n",
       "      <td>United-States</td>\n",
       "      <td>&lt;=50K</td>\n",
       "    </tr>\n",
       "    <tr>\n",
       "      <th>32559</th>\n",
       "      <td>22</td>\n",
       "      <td>Private</td>\n",
       "      <td>201490</td>\n",
       "      <td>HS-grad</td>\n",
       "      <td>9</td>\n",
       "      <td>Never-married</td>\n",
       "      <td>Adm-clerical</td>\n",
       "      <td>Own-child</td>\n",
       "      <td>White</td>\n",
       "      <td>Male</td>\n",
       "      <td>0</td>\n",
       "      <td>0</td>\n",
       "      <td>20</td>\n",
       "      <td>United-States</td>\n",
       "      <td>&lt;=50K</td>\n",
       "    </tr>\n",
       "    <tr>\n",
       "      <th>32560</th>\n",
       "      <td>52</td>\n",
       "      <td>Self-emp-inc</td>\n",
       "      <td>287927</td>\n",
       "      <td>HS-grad</td>\n",
       "      <td>9</td>\n",
       "      <td>Married-civ-spouse</td>\n",
       "      <td>Exec-managerial</td>\n",
       "      <td>Wife</td>\n",
       "      <td>White</td>\n",
       "      <td>Female</td>\n",
       "      <td>15024</td>\n",
       "      <td>0</td>\n",
       "      <td>40</td>\n",
       "      <td>United-States</td>\n",
       "      <td>&gt;50K</td>\n",
       "    </tr>\n",
       "  </tbody>\n",
       "</table>\n",
       "<p>32561 rows × 15 columns</p>\n",
       "</div>"
      ],
      "text/plain": [
       "       'age'        'workclass'   'fnlwgt'  'education'   'education-num'  \\\n",
       "0         39          State-gov      77516    Bachelors                13   \n",
       "1         50   Self-emp-not-inc      83311    Bachelors                13   \n",
       "2         38            Private     215646      HS-grad                 9   \n",
       "3         53            Private     234721         11th                 7   \n",
       "4         28            Private     338409    Bachelors                13   \n",
       "...      ...                ...        ...          ...               ...   \n",
       "32556     27            Private     257302   Assoc-acdm                12   \n",
       "32557     40            Private     154374      HS-grad                 9   \n",
       "32558     58            Private     151910      HS-grad                 9   \n",
       "32559     22            Private     201490      HS-grad                 9   \n",
       "32560     52       Self-emp-inc     287927      HS-grad                 9   \n",
       "\n",
       "          'marital-status'        'occupation'  'relationship'  'race'  \\\n",
       "0            Never-married        Adm-clerical   Not-in-family   White   \n",
       "1       Married-civ-spouse     Exec-managerial         Husband   White   \n",
       "2                 Divorced   Handlers-cleaners   Not-in-family   White   \n",
       "3       Married-civ-spouse   Handlers-cleaners         Husband   Black   \n",
       "4       Married-civ-spouse      Prof-specialty            Wife   Black   \n",
       "...                    ...                 ...             ...     ...   \n",
       "32556   Married-civ-spouse        Tech-support            Wife   White   \n",
       "32557   Married-civ-spouse   Machine-op-inspct         Husband   White   \n",
       "32558              Widowed        Adm-clerical       Unmarried   White   \n",
       "32559        Never-married        Adm-clerical       Own-child   White   \n",
       "32560   Married-civ-spouse     Exec-managerial            Wife   White   \n",
       "\n",
       "         'sex'   'capital-gain'   'capital-loss'   'hours-per-week'  \\\n",
       "0         Male             2174                0                 40   \n",
       "1         Male                0                0                 13   \n",
       "2         Male                0                0                 40   \n",
       "3         Male                0                0                 40   \n",
       "4       Female                0                0                 40   \n",
       "...        ...              ...              ...                ...   \n",
       "32556   Female                0                0                 38   \n",
       "32557     Male                0                0                 40   \n",
       "32558   Female                0                0                 40   \n",
       "32559     Male                0                0                 20   \n",
       "32560   Female            15024                0                 40   \n",
       "\n",
       "       'native-country' 'label'  \n",
       "0         United-States   <=50K  \n",
       "1         United-States   <=50K  \n",
       "2         United-States   <=50K  \n",
       "3         United-States   <=50K  \n",
       "4                  Cuba   <=50K  \n",
       "...                 ...     ...  \n",
       "32556     United-States   <=50K  \n",
       "32557     United-States    >50K  \n",
       "32558     United-States   <=50K  \n",
       "32559     United-States   <=50K  \n",
       "32560     United-States    >50K  \n",
       "\n",
       "[32561 rows x 15 columns]"
      ]
     },
     "execution_count": 28,
     "metadata": {},
     "output_type": "execute_result"
    }
   ],
   "source": [
    "df = pd.read_table('adult.data', header = None, sep = ',')\n",
    "df.columns=column_names_list\n",
    "df"
   ]
  },
  {
   "cell_type": "code",
   "execution_count": 30,
   "metadata": {},
   "outputs": [
    {
     "data": {
      "text/plain": [
       "<pymongo.results.InsertManyResult at 0x1566e693ec0>"
      ]
     },
     "execution_count": 30,
     "metadata": {},
     "output_type": "execute_result"
    }
   ],
   "source": [
    "data = df.to_dict(orient = \"records\") \n",
    "collection.insert_many(data)"
   ]
  },
  {
   "cell_type": "code",
   "execution_count": 31,
   "metadata": {
    "scrolled": false
   },
   "outputs": [
    {
     "data": {
      "text/plain": [
       "32561"
      ]
     },
     "execution_count": 31,
     "metadata": {},
     "output_type": "execute_result"
    }
   ],
   "source": [
    "collection.count_documents({})"
   ]
  },
  {
   "cell_type": "markdown",
   "metadata": {},
   "source": [
    "## Read operation using find ( ) in MongoDB"
   ]
  },
  {
   "cell_type": "code",
   "execution_count": 15,
   "metadata": {},
   "outputs": [
    {
     "name": "stdout",
     "output_type": "stream",
     "text": [
      "None\n"
     ]
    }
   ],
   "source": [
    "age39 = collection.find_one({'age':{'$eq' : 39}}) #alternatively, {'age': 39} can be used\n",
    "print(age39)"
   ]
  },
  {
   "cell_type": "code",
   "execution_count": null,
   "metadata": {},
   "outputs": [],
   "source": []
  },
  {
   "cell_type": "markdown",
   "metadata": {},
   "source": [
    "## Update operation"
   ]
  },
  {
   "cell_type": "code",
   "execution_count": null,
   "metadata": {},
   "outputs": [],
   "source": []
  },
  {
   "cell_type": "code",
   "execution_count": null,
   "metadata": {},
   "outputs": [],
   "source": []
  },
  {
   "cell_type": "markdown",
   "metadata": {},
   "source": [
    "## Indexing in MongoDB"
   ]
  },
  {
   "cell_type": "code",
   "execution_count": null,
   "metadata": {},
   "outputs": [],
   "source": []
  },
  {
   "cell_type": "code",
   "execution_count": null,
   "metadata": {},
   "outputs": [],
   "source": []
  },
  {
   "cell_type": "markdown",
   "metadata": {},
   "source": [
    "## Read data from MongoDB into dataframes"
   ]
  },
  {
   "cell_type": "code",
   "execution_count": null,
   "metadata": {},
   "outputs": [],
   "source": []
  },
  {
   "cell_type": "code",
   "execution_count": null,
   "metadata": {},
   "outputs": [],
   "source": []
  },
  {
   "cell_type": "markdown",
   "metadata": {},
   "source": [
    "## Delete ( ) in MongoDB"
   ]
  },
  {
   "cell_type": "code",
   "execution_count": null,
   "metadata": {},
   "outputs": [],
   "source": []
  }
 ],
 "metadata": {
  "kernelspec": {
   "display_name": "Python 3",
   "language": "python",
   "name": "python3"
  },
  "language_info": {
   "codemirror_mode": {
    "name": "ipython",
    "version": 3
   },
   "file_extension": ".py",
   "mimetype": "text/x-python",
   "name": "python",
   "nbconvert_exporter": "python",
   "pygments_lexer": "ipython3",
   "version": "3.8.8"
  }
 },
 "nbformat": 4,
 "nbformat_minor": 4
}
