{
  "cells": [
    {
      "cell_type": "code",
      "execution_count": 1,
      "metadata": {
        "colab": {
          "base_uri": "https://localhost:8080/"
        },
        "id": "DbFZ1hJ6Oo7l",
        "outputId": "7cef2c6d-bdcd-4a0f-c2ae-cba61a7c5b71"
      },
      "outputs": [],
      "source": [
        "import investpy\n",
        "import pandas as pd\n",
        "import matplotlib.pyplot as plt"
      ]
    },
    {
      "cell_type": "code",
      "execution_count": 2,
      "metadata": {
        "colab": {
          "base_uri": "https://localhost:8080/"
        },
        "id": "ipTuzNgJOkxd",
        "outputId": "683e790f-68c8-44f0-b3b9-15ad8c896f11"
      },
      "outputs": [],
      "source": [
        "df_bbva = investpy.get_stock_recent_data(\n",
        "    stock='bbva', country='spain', as_json=False, order='ascending', interval='Daily')\n",
        "df_bbva.to_csv('csv/investpySpainBBVA.csv')\n",
        "pd.DataFrame.from_dict\n",
        "\n",
        "df_tel = investpy.get_stock_recent_data(\n",
        "    stock='tef', country='spain', as_json=False, order='ascending', interval='Daily')\n",
        "df_tel.to_csv('csv/investpySpainTelefonica.csv')\n",
        "\n",
        "df_san = investpy.get_stock_recent_data(\n",
        "    stock='san', country='spain', as_json=False, order='ascending', interval='Daily')\n",
        "df_san.to_csv('csv/investpySpainSantander.csv')"
      ]
    },
    {
      "cell_type": "code",
      "execution_count": 3,
      "metadata": {},
      "outputs": [
        {
          "name": "stdout",
          "output_type": "stream",
          "text": [
            "     Open   High    Low  Close     Volume Currency\n",
            "0   6.000  6.078  5.925  6.040   59829500      EUR\n",
            "1   5.964  6.002  5.900  5.930   15033200      EUR\n",
            "2   5.913  5.983  5.883  5.914   25593400      EUR\n",
            "3   5.810  5.904  5.757  5.904   44775000      EUR\n",
            "4   5.875  5.920  5.690  5.690   18621500      EUR\n",
            "5   5.710  5.754  5.580  5.637   20399900      EUR\n",
            "6   5.680  5.835  5.675  5.769   49377600      EUR\n",
            "7   5.747  5.823  5.736  5.823  142724608      EUR\n",
            "8   5.801  5.857  5.754  5.776   66672600      EUR\n",
            "9   5.763  5.862  5.717  5.830   84651200      EUR\n",
            "10  5.777  5.787  5.637  5.661   49572700      EUR\n",
            "11  5.671  5.727  5.632  5.686   15532500      EUR\n",
            "12  5.650  5.734  5.586  5.701   15565400      EUR\n",
            "13  5.701  5.735  5.611  5.683   13944800      EUR\n",
            "14  5.680  5.744  5.562  5.615   17130100      EUR\n",
            "15  5.599  5.674  5.501  5.641   15379800      EUR\n",
            "16  5.760  6.099  5.760  6.062   45385000      EUR\n",
            "17  6.052  6.292  6.030  6.279   19040400      EUR\n",
            "18  6.202  6.254  6.141  6.162   14286900      EUR\n",
            "19  6.155  6.189  6.064  6.183   14959600      EUR\n",
            "20  6.220  6.260  6.005  6.040   37116300      EUR\n",
            "21  6.028  6.107  5.997  6.026   17151900      EUR\n",
            "      Open    High     Low   Close    Volume Currency\n",
            "0   4.0000  4.0815  4.0000  4.0255  11499400      EUR\n",
            "1   4.0150  4.0385  3.9945  4.0255  10446200      EUR\n",
            "2   4.0180  4.0285  3.9815  3.9900   8717400      EUR\n",
            "3   3.9825  4.0275  3.9370  4.0275  11113300      EUR\n",
            "4   4.0095  4.0125  3.9610  3.9670  16753500      EUR\n",
            "5   3.9855  4.0040  3.9355  3.9415  27721600      EUR\n",
            "6   3.9355  3.9385  3.7685  3.7970  39520600      EUR\n",
            "7   3.8010  3.8215  3.7360  3.7655  16068400      EUR\n",
            "8   3.7500  3.7840  3.7135  3.7385  16115100      EUR\n",
            "9   3.7500  3.8530  3.7400  3.8365  33524800      EUR\n",
            "10  3.8335  3.8685  3.7905  3.7905  19193900      EUR\n",
            "11  3.7805  3.8200  3.7645  3.7715  11040200      EUR\n",
            "12  3.7800  3.8410  3.7430  3.8225  13713000      EUR\n",
            "13  3.7935  3.8265  3.7465  3.8130  11730700      EUR\n",
            "14  3.8010  3.8135  3.7685  3.8135  16478700      EUR\n",
            "15  3.7970  3.7970  3.7410  3.7410  14511500      EUR\n",
            "16  3.7400  3.7740  3.7140  3.7645  15505500      EUR\n",
            "17  3.7610  3.8445  3.7490  3.8165  12354400      EUR\n",
            "18  3.8135  3.8155  3.7540  3.7660  16813400      EUR\n",
            "19  3.7660  3.7700  3.7120  3.7520  13297900      EUR\n",
            "20  3.7100  3.7595  3.6135  3.6640  32537500      EUR\n",
            "21  3.6700  3.8030  3.6480  3.7660  21734500      EUR\n",
            "      Open    High     Low   Close     Volume Currency\n",
            "0   3.2755  3.3510  3.2560  3.3315   58486544      EUR\n",
            "1   3.3245  3.3750  3.3245  3.3500   42392864      EUR\n",
            "2   3.3375  3.3750  3.3300  3.3490   28272784      EUR\n",
            "3   3.2950  3.3930  3.2800  3.3835   38760656      EUR\n",
            "4   3.3610  3.3785  3.2605  3.2760   39017776      EUR\n",
            "5   3.3100  3.3580  3.2810  3.2810   59288484      EUR\n",
            "6   3.3100  3.3850  3.3080  3.3455   46452284      EUR\n",
            "7   3.3450  3.3750  3.3195  3.3300   87094672      EUR\n",
            "8   3.3250  3.3800  3.3155  3.3615   51801980      EUR\n",
            "9   3.3600  3.3760  3.3220  3.3600  366904992      EUR\n",
            "10  3.3320  3.3500  3.2970  3.3135   97932000      EUR\n",
            "11  3.3130  3.3420  3.2820  3.2820   90017000      EUR\n",
            "12  3.3000  3.3505  3.2915  3.3185   91583000      EUR\n",
            "13  3.3200  3.3745  3.3105  3.3565   39606000      EUR\n",
            "14  3.3500  3.3505  3.2245  3.2610   66844000      EUR\n",
            "15  3.2540  3.3000  3.1980  3.2805   50598000      EUR\n",
            "16  3.2525  3.2765  3.1875  3.2765   48525000      EUR\n",
            "17  3.2800  3.3535  3.2755  3.3435   77143000      EUR\n",
            "18  3.3250  3.3350  3.2725  3.2945   50786000      EUR\n",
            "19  3.2750  3.3100  3.2360  3.3100  306672992      EUR\n",
            "20  3.3200  3.3270  3.2160  3.2375  144544992      EUR\n",
            "21  3.2270  3.3190  3.2150  3.2840   84768000      EUR\n"
          ]
        }
      ],
      "source": [
        "df_bbva = df_bbva.tail(1).from_records(df_bbva)\n",
        "df_tel = df_tel.tail(1).from_records(df_tel)\n",
        "df_san = df_san.tail(1).from_records(df_san)\n",
        "\n",
        "print(df_bbva)\n",
        "print(df_tel)\n",
        "print(df_san)"
      ]
    },
    {
      "cell_type": "markdown",
      "metadata": {},
      "source": []
    },
    {
      "cell_type": "code",
      "execution_count": 4,
      "metadata": {},
      "outputs": [
        {
          "data": {
            "image/png": "[encoded data removed]",
            "text/plain": [
              "<Figure size 720x360 with 2 Axes>"
            ]
          },
          "metadata": {
            "needs_background": "light"
          },
          "output_type": "display_data"
        }
      ],
      "source": [
        "plt.figure(figsize=(10,5))\n",
        "#\n",
        "x_bbva='BBVA'\n",
        "x_tel='TELEFONICA'\n",
        "x_san='SANTANDER'\n",
        "\n",
        "y_bbva=df_bbva['High']\n",
        "y_tel=df_tel['High']\n",
        "y_san=df_tel['High']\n",
        "\n",
        "y_bbvam=df_bbva['Low']\n",
        "y_telm=df_tel['Low']\n",
        "y_sanm=df_tel['Low']\n",
        "\n",
        "plt.subplot(121)\n",
        "plt.title('Maximo y Mínimo de las Acciones',fontsize=20, fontweight='bold')\n",
        "bbvaM = plt.bar(x_bbva, y_bbva, color='#ff5733', label=\"BBVA\");\n",
        "telM = plt.bar(x_tel, y_tel, color='#ffc300', label=\"TELEFONICA\");\n",
        "sanM = plt.bar(x_san, y_san, color='#ffa600', label=\"SANTANDER\");\n",
        "plt.grid()\n",
        "plt.xlabel('Máximo',fontsize=20)\n",
        "\n",
        "plt.subplot(122)\n",
        "bbvaM = plt.bar(x_bbva, y_bbvam, color='#ff5733', label=\"BBVA\");\n",
        "telM = plt.bar(x_tel, y_telm, color='#ffc300', label=\"TELEFONICA\");\n",
        "sanM = plt.bar(x_san, y_sanm, color='#ffa600', label=\"SANTANDER\");\n",
        "plt.grid()\n",
        "plt.xlabel('Mínimo',fontsize=20)\n",
        "\n",
        "plt.legend()\n",
        "\n",
        "plt.show();"
      ]
    }
  ],
  "metadata": {
    "colab": {
      "name": "Untitled9.ipynb",
      "provenance": []
    },
    "interpreter": {
      "hash": "f0402159d711d0052a3e7bca0b7351e58d575a60ee4ba99fae509d4e59c9db22"
    },
    "kernelspec": {
      "display_name": "Python 3.8.10 64-bit ('jupyter': venv)",
      "name": "python3"
    },
    "language_info": {
      "codemirror_mode": {
        "name": "ipython",
        "version": 3
      },
      "file_extension": ".py",
      "mimetype": "text/x-python",
      "name": "python",
      "nbconvert_exporter": "python",
      "pygments_lexer": "ipython3",
      "version": "3.8.10"
    }
  },
  "nbformat": 4,
  "nbformat_minor": 0
}
