{
  "cells": [
    {
      "cell_type": "code",
      "execution_count": 1,
      "metadata": {
        "colab": {
          "base_uri": "https://localhost:8080/"
        },
        "id": "DbFZ1hJ6Oo7l",
        "outputId": "7cef2c6d-bdcd-4a0f-c2ae-cba61a7c5b71"
      },
      "outputs": [
        {
          "name": "stdout",
          "output_type": "stream",
          "text": [
            "Processing /home/eleana/.cache/pip/wheels/75/2b/57/45c6babd0824ed333bc00bdf347454ead77906e83e2a1da0d5/investpy-1.0.7-py3-none-any.whl\n",
            "Requirement already satisfied: setuptools>=41.2.0 in /home/eleana/Documents/git/practica/pp12021grupo2_a1-pp12021grupo2_a1/jupyter/lib/python3.8/site-packages (from investpy) (44.0.0)\n",
            "Requirement already satisfied: pytz>=2019.3 in /home/eleana/Documents/git/practica/pp12021grupo2_a1-pp12021grupo2_a1/jupyter/lib/python3.8/site-packages (from investpy) (2021.3)\n",
            "Requirement already satisfied: numpy>=1.17.2 in /home/eleana/Documents/git/practica/pp12021grupo2_a1-pp12021grupo2_a1/jupyter/lib/python3.8/site-packages (from investpy) (1.21.4)\n",
            "Requirement already satisfied: pandas>=0.25.1 in /home/eleana/Documents/git/practica/pp12021grupo2_a1-pp12021grupo2_a1/jupyter/lib/python3.8/site-packages (from investpy) (1.3.4)\n",
            "Requirement already satisfied: lxml>=4.4.1 in /home/eleana/Documents/git/practica/pp12021grupo2_a1-pp12021grupo2_a1/jupyter/lib/python3.8/site-packages (from investpy) (4.6.4)\n",
            "Collecting Unidecode>=1.1.1\n",
            "  Using cached Unidecode-1.3.2-py3-none-any.whl (235 kB)\n",
            "Requirement already satisfied: requests>=2.22.0 in /home/eleana/Documents/git/practica/pp12021grupo2_a1-pp12021grupo2_a1/jupyter/lib/python3.8/site-packages (from investpy) (2.26.0)\n",
            "Requirement already satisfied: python-dateutil>=2.7.3 in /home/eleana/Documents/git/practica/pp12021grupo2_a1-pp12021grupo2_a1/jupyter/lib/python3.8/site-packages (from pandas>=0.25.1->investpy) (2.8.2)\n",
            "Requirement already satisfied: charset-normalizer~=2.0.0; python_version >= \"3\" in /home/eleana/Documents/git/practica/pp12021grupo2_a1-pp12021grupo2_a1/jupyter/lib/python3.8/site-packages (from requests>=2.22.0->investpy) (2.0.7)\n",
            "Requirement already satisfied: urllib3<1.27,>=1.21.1 in /home/eleana/Documents/git/practica/pp12021grupo2_a1-pp12021grupo2_a1/jupyter/lib/python3.8/site-packages (from requests>=2.22.0->investpy) (1.26.7)\n",
            "Requirement already satisfied: certifi>=2017.4.17 in /home/eleana/Documents/git/practica/pp12021grupo2_a1-pp12021grupo2_a1/jupyter/lib/python3.8/site-packages (from requests>=2.22.0->investpy) (2021.10.8)\n",
            "Requirement already satisfied: idna<4,>=2.5; python_version >= \"3\" in /home/eleana/Documents/git/practica/pp12021grupo2_a1-pp12021grupo2_a1/jupyter/lib/python3.8/site-packages (from requests>=2.22.0->investpy) (3.3)\n",
            "Requirement already satisfied: six>=1.5 in /home/eleana/Documents/git/practica/pp12021grupo2_a1-pp12021grupo2_a1/jupyter/lib/python3.8/site-packages (from python-dateutil>=2.7.3->pandas>=0.25.1->investpy) (1.16.0)\n",
            "Installing collected packages: Unidecode, investpy\n",
            "Successfully installed Unidecode-1.3.2 investpy-1.0.7\n"
          ]
        }
      ],
      "source": [
        "!pip3 install investpy\n",
        "\n",
        "import investpy\n",
        "import pandas as pd\n",
        "import matplotlib.pyplot as plt"
      ]
    },
    {
      "cell_type": "code",
      "execution_count": 2,
      "metadata": {
        "colab": {
          "base_uri": "https://localhost:8080/"
        },
        "id": "ipTuzNgJOkxd",
        "outputId": "683e790f-68c8-44f0-b3b9-15ad8c896f11"
      },
      "outputs": [],
      "source": [
        "df_bbva = investpy.get_stock_recent_data(\n",
        "    stock='bbva', country='spain', as_json=False, order='ascending', interval='Daily')\n",
        "df_bbva.to_csv('csv/investpySpainBBVA.csv')\n",
        "\n",
        "df_tel = investpy.get_stock_recent_data(\n",
        "    stock='tef', country='spain', as_json=False, order='ascending', interval='Daily')\n",
        "df_tel.to_csv('csv/investpySpainTelefonica.csv')\n",
        "\n",
        "df_san = investpy.get_stock_recent_data(\n",
        "    stock='san', country='spain', as_json=False, order='ascending', interval='Daily')\n",
        "df_san.to_csv('csv/investpySpainSantander.csv')\n",
        "\n",
        "\n",
        "\n",
        "# plt.figure(figsize=(10,4))\n",
        "# plt.subplot(131)\n",
        "# bbva_df['High'].plot(title=\"BBVA.MC\", color='#01b8aa', label=\"Maximo\");\n",
        "# bbva_df['Low'].plot(title=\"BBVA.MC\", marker=\"*\", color='#fd625e', label=\"Minimo\");\n",
        "# plt.legend()\n",
        "# plt.subplot(132)\n",
        "# tel_df['High'].plot(title=\"TEF.MC\", color='#01b8aa', label=\"Maximo\");\n",
        "# tel_df['Low'].plot(title=\"TEF.MC\", marker=\"*\", color='#fd625e', label=\"Minimo\");\n",
        "# plt.legend()\n",
        "# plt.subplot(133)\n",
        "# san_df['High'].plot(title=\"SAN.MC\", color='#01b8aa', label=\"Maximo\");\n",
        "# san_df['Low'].plot(title=\"SAN.MC\", marker=\"*\", color='#fd625e', label=\"Minimo\");\n",
        "# plt.legend()\n",
        "# plt.show();\n"
      ]
    },
    {
      "cell_type": "code",
      "execution_count": 3,
      "metadata": {},
      "outputs": [
        {
          "name": "stdout",
          "output_type": "stream",
          "text": [
            "             Open   High    Low  Close    Volume Currency\n",
            "Date                                                     \n",
            "2021-11-05  6.028  6.107  5.997  6.026  17151900      EUR\n",
            "            Open   High    Low  Close    Volume Currency\n",
            "Date                                                    \n",
            "2021-11-05  3.67  3.803  3.648  3.766  21734500      EUR\n",
            "             Open   High    Low  Close    Volume Currency\n",
            "Date                                                     \n",
            "2021-11-05  3.227  3.319  3.215  3.284  84768000      EUR\n"
          ]
        }
      ],
      "source": [
        "df_bbva = df_bbva.tail(1)\n",
        "df_tel = df_tel.tail(1)\n",
        "df_san = df_san.tail(1)\n",
        "\n",
        "print(df_bbva)\n",
        "print(df_tel)\n",
        "print(df_san)"
      ]
    },
    {
      "cell_type": "code",
      "execution_count": 5,
      "metadata": {},
      "outputs": [
        {
          "data": {
            "image/png": "[encoded data removed]",
            "text/plain": [
              "<Figure size 720x288 with 1 Axes>"
            ]
          },
          "metadata": {
            "needs_background": "light"
          },
          "output_type": "display_data"
        }
      ],
      "source": [
        "plt.figure(figsize=(10,4))\n",
        "plt.subplot(131)\n",
        "df_bbva['High'].plot(title=\"BBVA\",  color='#01b8aa', label=\"Maximo\");\n",
        "df_bbva['Low'].plot(title=\"BBVA\", marker=\"*\", color='#fd625e', label=\"Minimo\");\n",
        "df_tel['High'].plot(title=\"TEF\", color='#01b8aa', label=\"Maximo\");\n",
        "df_tel['Low'].plot(title=\"TEF\", marker=\"*\", color='#fd625e', label=\"Minimo\");\n",
        "df_san['High'].plot(title=\"SAN\", color='#01b8aa', label=\"Maximo\");\n",
        "df_san['Low'].plot(title=\"SAN\", marker=\"*\", color='#fd625e', label=\"Minimo\");\n",
        "plt.legend()\n",
        "plt.show();"
      ]
    }
  ],
  "metadata": {
    "colab": {
      "name": "Untitled9.ipynb",
      "provenance": []
    },
    "interpreter": {
      "hash": "f0402159d711d0052a3e7bca0b7351e58d575a60ee4ba99fae509d4e59c9db22"
    },
    "kernelspec": {
      "display_name": "Python 3.8.10 64-bit ('jupyter': venv)",
      "name": "python3"
    },
    "language_info": {
      "codemirror_mode": {
        "name": "ipython",
        "version": 3
      },
      "file_extension": ".py",
      "mimetype": "text/x-python",
      "name": "python",
      "nbconvert_exporter": "python",
      "pygments_lexer": "ipython3",
      "version": "3.8.10"
    }
  },
  "nbformat": 4,
  "nbformat_minor": 0
}
