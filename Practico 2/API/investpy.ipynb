{
  "cells": [
    {
      "cell_type": "code",
      "execution_count": 5,
      "metadata": {
        "colab": {
          "base_uri": "https://localhost:8080/"
        },
        "id": "DbFZ1hJ6Oo7l",
        "outputId": "7cef2c6d-bdcd-4a0f-c2ae-cba61a7c5b71"
      },
      "outputs": [],
      "source": [
        "import investpy\n",
        "import pandas as pd\n",
        "import matplotlib.pyplot as plt"
      ]
    },
    {
      "cell_type": "code",
      "execution_count": 31,
      "metadata": {
        "colab": {
          "base_uri": "https://localhost:8080/"
        },
        "id": "ipTuzNgJOkxd",
        "outputId": "683e790f-68c8-44f0-b3b9-15ad8c896f11"
      },
      "outputs": [],
      "source": [
        "df_bbva = investpy.get_stock_recent_data(\n",
        "    stock='bbva', country='spain', as_json=False, order='ascending', interval='Daily')\n",
        "df_bbva.to_csv('csv/investpySpainBBVA.csv')\n",
        "pd.DataFrame.from_dict\n",
        "\n",
        "df_tel = investpy.get_stock_recent_data(\n",
        "    stock='tef', country='spain', as_json=False, order='ascending', interval='Daily')\n",
        "df_tel.to_csv('csv/investpySpainTelefonica.csv')\n",
        "\n",
        "df_san = investpy.get_stock_recent_data(\n",
        "    stock='san', country='spain', as_json=False, order='ascending', interval='Daily')\n",
        "df_san.to_csv('csv/investpySpainSantander.csv')"
      ]
    },
    {
      "cell_type": "code",
      "execution_count": 37,
      "metadata": {},
      "outputs": [
        {
          "name": "stdout",
          "output_type": "stream",
          "text": [
            "    Open   High    Low  Close    Volume Currency\n",
            "0  6.028  6.107  5.997  6.026  17151900      EUR\n",
            "   Open   High    Low  Close    Volume Currency\n",
            "0  3.67  3.803  3.648  3.766  21734500      EUR\n",
            "    Open   High    Low  Close    Volume Currency\n",
            "0  3.227  3.319  3.215  3.284  84768000      EUR\n"
          ]
        }
      ],
      "source": [
        "df_bbva = df_bbva.tail(1).from_records(df_bbva)\n",
        "df_tel = df_tel.tail(1).from_records(df_tel)\n",
        "df_san = df_san.tail(1).from_records(df_san)\n",
        "\n",
        "print(df_bbva)\n",
        "print(df_tel)\n",
        "print(df_san)"
      ]
    },
    {
      "cell_type": "code",
      "execution_count": 88,
      "metadata": {},
      "outputs": [
        {
          "data": {
            "image/png": "[encoded data removed]",
            "text/plain": [
              "<Figure size 720x360 with 2 Axes>"
            ]
          },
          "metadata": {
            "needs_background": "light"
          },
          "output_type": "display_data"
        }
      ],
      "source": [
        "plt.figure(figsize=(10,5))\n",
        "#\n",
        "x_bbva='BBVA'\n",
        "x_tel='TELEFONICA'\n",
        "x_san='SANTANDER'\n",
        "\n",
        "y_bbva=df_bbva['High']\n",
        "y_tel=df_tel['High']\n",
        "y_san=df_tel['High']\n",
        "\n",
        "y_bbvam=df_bbva['Low']\n",
        "y_telm=df_tel['Low']\n",
        "y_sanm=df_tel['Low']\n",
        "\n",
        "plt.subplot(121)\n",
        "plt.title('Maximo y Mínimo de las Acciones',fontsize=20, fontweight='bold')\n",
        "bbvaM = plt.bar(x_bbva, y_bbva, color='#ff5733', label=\"BBVA\");\n",
        "telM = plt.bar(x_tel, y_tel, color='#ffc300', label=\"TELEFONICA\");\n",
        "sanM = plt.bar(x_san, y_san, color='#ffa600', label=\"SANTANDER\");\n",
        "plt.grid()\n",
        "plt.xlabel('Máximo',fontsize=20)\n",
        "\n",
        "plt.subplot(122)\n",
        "bbvaM = plt.bar(x_bbva, y_bbvam, color='#ff5733', label=\"BBVA\");\n",
        "telM = plt.bar(x_tel, y_telm, color='#ffc300', label=\"TELEFONICA\");\n",
        "sanM = plt.bar(x_san, y_sanm, color='#ffa600', label=\"SANTANDER\");\n",
        "plt.grid()\n",
        "plt.xlabel('Mínimo',fontsize=20)\n",
        "\n",
        "plt.legend()\n",
        "\n",
        "plt.show();"
      ]
    }
  ],
  "metadata": {
    "colab": {
      "name": "Untitled9.ipynb",
      "provenance": []
    },
    "interpreter": {
      "hash": "f0402159d711d0052a3e7bca0b7351e58d575a60ee4ba99fae509d4e59c9db22"
    },
    "kernelspec": {
      "display_name": "Python 3.8.10 64-bit ('jupyter': venv)",
      "name": "python3"
    },
    "language_info": {
      "codemirror_mode": {
        "name": "ipython",
        "version": 3
      },
      "file_extension": ".py",
      "mimetype": "text/x-python",
      "name": "python",
      "nbconvert_exporter": "python",
      "pygments_lexer": "ipython3",
      "version": "3.8.10"
    }
  },
  "nbformat": 4,
  "nbformat_minor": 0
}
