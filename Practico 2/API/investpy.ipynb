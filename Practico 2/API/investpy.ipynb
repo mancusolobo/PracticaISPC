{
  "cells": [
    {
      "cell_type": "code",
      "execution_count": 4,
      "metadata": {
        "colab": {
          "base_uri": "https://localhost:8080/"
        },
        "id": "DbFZ1hJ6Oo7l",
        "outputId": "7cef2c6d-bdcd-4a0f-c2ae-cba61a7c5b71"
      },
      "outputs": [],
      "source": [
        "import investpy"
      ]
    },
    {
      "cell_type": "code",
      "execution_count": 5,
      "metadata": {
        "colab": {
          "base_uri": "https://localhost:8080/"
        },
        "id": "ipTuzNgJOkxd",
        "outputId": "683e790f-68c8-44f0-b3b9-15ad8c896f11"
      },
      "outputs": [],
      "source": [
        "df_bbva = investpy.get_stock_recent_data(\n",
        "    stock='bbva', country='spain', as_json=False, order='ascending', interval='Daily')\n",
        "df_bbva.to_csv('csv/investpySpain.csv')"
      ]
    },
    {
      "cell_type": "code",
      "execution_count": 6,
      "metadata": {},
      "outputs": [
        {
          "name": "stdout",
          "output_type": "stream",
          "text": [
            "     Open   High    Low  Close     Volume Currency\n",
            "0   5.710  5.754  5.580  5.637   20399900      EUR\n",
            "1   5.680  5.835  5.675  5.769   49377600      EUR\n",
            "2   5.747  5.823  5.736  5.823  142724608      EUR\n",
            "3   5.801  5.857  5.754  5.776   66672600      EUR\n",
            "4   5.763  5.862  5.717  5.830   84651200      EUR\n",
            "5   5.777  5.787  5.637  5.661   49572700      EUR\n",
            "6   5.671  5.727  5.632  5.686   15532500      EUR\n",
            "7   5.650  5.734  5.586  5.701   15565400      EUR\n",
            "8   5.701  5.735  5.611  5.683   13944800      EUR\n",
            "9   5.680  5.744  5.562  5.615   17130100      EUR\n",
            "10  5.599  5.674  5.501  5.641   15379800      EUR\n",
            "11  5.760  6.099  5.760  6.062   45385000      EUR\n",
            "12  6.052  6.292  6.030  6.279   19040400      EUR\n",
            "13  6.202  6.254  6.141  6.162   14286900      EUR\n",
            "14  6.155  6.189  6.064  6.183   14959600      EUR\n",
            "15  6.220  6.260  6.005  6.040   37116300      EUR\n",
            "16  6.028  6.107  5.997  6.026   17151900      EUR\n",
            "17  6.006  6.089  5.995  6.021   17912000      EUR\n",
            "18  5.991  6.040  5.936  5.973    9689800      EUR\n",
            "19  5.976  6.047  5.967  6.032   10651000      EUR\n",
            "20  6.040  6.118  6.030  6.080   23857700      EUR\n",
            "21  6.180  6.186  6.073  6.127   14890100      EUR\n"
          ]
        }
      ],
      "source": [
        "df_bbva = df_bbva.tail(1).from_records(df_bbva)\n",
        "print(df_bbva)\n"
      ]
    }
  ],
  "metadata": {
    "colab": {
      "name": "Untitled9.ipynb",
      "provenance": []
    },
    "interpreter": {
      "hash": "f0402159d711d0052a3e7bca0b7351e58d575a60ee4ba99fae509d4e59c9db22"
    },
    "kernelspec": {
      "display_name": "Python 3.8.10 64-bit ('jupyter': venv)",
      "name": "python3"
    },
    "language_info": {
      "codemirror_mode": {
        "name": "ipython",
        "version": 3
      },
      "file_extension": ".py",
      "mimetype": "text/x-python",
      "name": "python",
      "nbconvert_exporter": "python",
      "pygments_lexer": "ipython3",
      "version": "3.8.10"
    }
  },
  "nbformat": 4,
  "nbformat_minor": 0
}
