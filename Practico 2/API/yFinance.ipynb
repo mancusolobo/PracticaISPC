{
  "cells": [
    {
      "cell_type": "code",
      "execution_count": 62,
      "metadata": {
        "colab": {
          "base_uri": "https://localhost:8080/"
        },
        "id": "rliUs0zGNjfh",
        "outputId": "9271a636-4410-4793-91d6-7906be049df8"
      },
      "outputs": [],
      "source": [
        "import yfinance as yf\n",
        "import pandas as pd\n",
        "import matplotlib.pyplot as plt\n",
        "from matplotlib import pyplot as plt"
      ]
    },
    {
      "cell_type": "code",
      "execution_count": 63,
      "metadata": {
        "id": "fHGsjWP4NDID"
      },
      "outputs": [],
      "source": [
        "def cotizaciones_yf(tickers):\n",
        "  df = yf.download(tickers,group_by=\"ticker\", period='1d')\n",
        "  return df"
      ]
    },
    {
      "cell_type": "code",
      "execution_count": 64,
      "metadata": {},
      "outputs": [
        {
          "name": "stdout",
          "output_type": "stream",
          "text": [
            "[*********************100%***********************]  1 of 1 completed\n",
            "            Open  High   Low  Close  Volume  Dividends  Stock Splits\n",
            "Date                                                                \n",
            "2021-11-08  6.97  6.98  6.96  6.975   76224        0.0             0\n"
          ]
        }
      ],
      "source": [
        "if __name__ == \"__main__\":\n",
        "  bbva = cotizaciones_yf(\"BBVA\")\n",
        "  bbva.to_csv('csv/yFbbva.csv', index = False)\n",
        "  ticker = yf.Ticker('BBVA');\n",
        "  bbva_df = ticker.history(interval=\"1d\");\n",
        "  print(bbva_df.tail(1))"
      ]
    }
  ],
  "metadata": {
    "colab": {
      "name": "Untitled8.ipynb",
      "provenance": []
    },
    "interpreter": {
      "hash": "f0402159d711d0052a3e7bca0b7351e58d575a60ee4ba99fae509d4e59c9db22"
    },
    "kernelspec": {
      "display_name": "Python 3.8.10 64-bit ('jupyter': venv)",
      "name": "python3"
    },
    "language_info": {
      "codemirror_mode": {
        "name": "ipython",
        "version": 3
      },
      "file_extension": ".py",
      "mimetype": "text/x-python",
      "name": "python",
      "nbconvert_exporter": "python",
      "pygments_lexer": "ipython3",
      "version": "3.8.10"
    }
  },
  "nbformat": 4,
  "nbformat_minor": 0
}
