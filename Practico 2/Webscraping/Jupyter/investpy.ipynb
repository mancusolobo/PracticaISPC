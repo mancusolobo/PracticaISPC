{
  "cells": [
    {
      "cell_type": "code",
      "execution_count": 4,
      "metadata": {
        "colab": {
          "base_uri": "https://localhost:8080/"
        },
        "id": "DbFZ1hJ6Oo7l",
        "outputId": "7cef2c6d-bdcd-4a0f-c2ae-cba61a7c5b71"
      },
      "outputs": [
        {
          "name": "stdout",
          "output_type": "stream",
          "text": [
            "Requirement already satisfied: investpy in /usr/local/lib/python3.7/dist-packages (1.0.7)\n",
            "Requirement already satisfied: pandas>=0.25.1 in /usr/local/lib/python3.7/dist-packages (from investpy) (1.1.5)\n",
            "Requirement already satisfied: lxml>=4.4.1 in /usr/local/lib/python3.7/dist-packages (from investpy) (4.6.3)\n",
            "Requirement already satisfied: pytz>=2019.3 in /usr/local/lib/python3.7/dist-packages (from investpy) (2021.3)\n",
            "Requirement already satisfied: numpy>=1.17.2 in /usr/local/lib/python3.7/dist-packages (from investpy) (1.19.5)\n",
            "Requirement already satisfied: Unidecode>=1.1.1 in /usr/local/lib/python3.7/dist-packages (from investpy) (1.3.2)\n",
            "Requirement already satisfied: setuptools>=41.2.0 in /usr/local/lib/python3.7/dist-packages (from investpy) (57.4.0)\n",
            "Requirement already satisfied: requests>=2.22.0 in /usr/local/lib/python3.7/dist-packages (from investpy) (2.23.0)\n",
            "Requirement already satisfied: python-dateutil>=2.7.3 in /usr/local/lib/python3.7/dist-packages (from pandas>=0.25.1->investpy) (2.8.2)\n",
            "Requirement already satisfied: six>=1.5 in /usr/local/lib/python3.7/dist-packages (from python-dateutil>=2.7.3->pandas>=0.25.1->investpy) (1.15.0)\n",
            "Requirement already satisfied: urllib3!=1.25.0,!=1.25.1,<1.26,>=1.21.1 in /usr/local/lib/python3.7/dist-packages (from requests>=2.22.0->investpy) (1.24.3)\n",
            "Requirement already satisfied: chardet<4,>=3.0.2 in /usr/local/lib/python3.7/dist-packages (from requests>=2.22.0->investpy) (3.0.4)\n",
            "Requirement already satisfied: certifi>=2017.4.17 in /usr/local/lib/python3.7/dist-packages (from requests>=2.22.0->investpy) (2021.5.30)\n",
            "Requirement already satisfied: idna<3,>=2.5 in /usr/local/lib/python3.7/dist-packages (from requests>=2.22.0->investpy) (2.10)\n"
          ]
        }
      ],
      "source": [
        "!pip3 install investpy\n",
        "\n",
        "import investpy\n",
        "import pandas as pd"
      ]
    },
    {
      "cell_type": "code",
      "execution_count": 14,
      "metadata": {
        "colab": {
          "base_uri": "https://localhost:8080/"
        },
        "id": "ipTuzNgJOkxd",
        "outputId": "683e790f-68c8-44f0-b3b9-15ad8c896f11"
      },
      "outputs": [
        {
          "name": "stdout",
          "output_type": "stream",
          "text": [
            "             Open   High    Low  Close    Volume Currency\n",
            "Date                                                     \n",
            "2020-01-02  5.031  5.124  5.021  5.110  11845300      EUR\n",
            "2020-01-03  5.078  5.078  5.016  5.054  13399200      EUR\n",
            "2020-01-06  5.000  5.039  4.944  5.032  11340300      EUR\n",
            "2020-01-07  5.051  5.079  4.983  5.010  10187800      EUR\n",
            "2020-01-08  4.968  5.069  4.961  5.058  12830900      EUR\n",
            "...           ...    ...    ...    ...       ...      ...\n",
            "2020-12-24  4.093  4.105  4.060  4.100   3838500      EUR\n",
            "2020-12-28  4.136  4.150  4.001  4.078   9906200      EUR\n",
            "2020-12-29  4.104  4.120  4.039  4.068   9927900      EUR\n",
            "2020-12-30  4.070  4.148  4.062  4.074   9544400      EUR\n",
            "2020-12-31  4.051  4.082  4.035  4.035   6323200      EUR\n",
            "\n",
            "[257 rows x 6 columns]\n"
          ]
        }
      ],
      "source": [
        "df = investpy.get_stock_historical_data(stock='BBVA',country='spain',from_date='01/01/2020',to_date='01/01/2021')\n",
        "\n",
        "df.to_csv('Practico 2/Webscraping/Jupyter/csv/investpySpain.csv')\n",
        "print(df)"
      ]
    }
  ],
  "metadata": {
    "colab": {
      "name": "Untitled9.ipynb",
      "provenance": []
    },
    "kernelspec": {
      "display_name": "Python 3",
      "name": "python3"
    },
    "language_info": {
      "name": "python"
    }
  },
  "nbformat": 4,
  "nbformat_minor": 0
}
