{
  "nbformat": 4,
  "nbformat_minor": 2,
  "metadata": {
    "colab": {
      "name": "Untitled5.ipynb",
      "provenance": []
    },
    "kernelspec": {
      "name": "python3",
      "display_name": "Python 3.8.10 64-bit"
    },
    "language_info": {
      "name": "python",
      "version": "3.8.10"
    },
    "interpreter": {
      "hash": "916dbcbb3f70747c44a77c7bcd40155683ae19c65e1c03b4aa3499c5328201f1"
    }
  },
  "cells": [
    {
      "cell_type": "code",
      "execution_count": null,
      "source": [
        "#!pip3 install investpy\n"
      ],
      "outputs": [
        {
          "output_type": "stream",
          "name": "stdout",
          "text": [
            "Collecting investpy\n",
            "  Downloading investpy-1.0.7.tar.gz (4.4 MB)\n",
            "\u001b[K     |████████████████████████████████| 4.4 MB 6.9 MB/s \n",
            "\u001b[?25hCollecting Unidecode>=1.1.1\n",
            "  Downloading Unidecode-1.3.2-py3-none-any.whl (235 kB)\n",
            "\u001b[K     |████████████████████████████████| 235 kB 63.7 MB/s \n",
            "\u001b[?25hRequirement already satisfied: setuptools>=41.2.0 in /usr/local/lib/python3.7/dist-packages (from investpy) (57.4.0)\n",
            "Requirement already satisfied: numpy>=1.17.2 in /usr/local/lib/python3.7/dist-packages (from investpy) (1.19.5)\n",
            "Requirement already satisfied: pandas>=0.25.1 in /usr/local/lib/python3.7/dist-packages (from investpy) (1.1.5)\n",
            "Collecting lxml>=4.4.1\n",
            "  Downloading lxml-4.6.3-cp37-cp37m-manylinux2014_x86_64.whl (6.3 MB)\n",
            "\u001b[K     |████████████████████████████████| 6.3 MB 25.1 MB/s \n",
            "\u001b[?25hRequirement already satisfied: requests>=2.22.0 in /usr/local/lib/python3.7/dist-packages (from investpy) (2.23.0)\n",
            "Collecting pytz>=2019.3\n",
            "  Downloading pytz-2021.3-py2.py3-none-any.whl (503 kB)\n",
            "\u001b[K     |████████████████████████████████| 503 kB 44.6 MB/s \n",
            "\u001b[?25hRequirement already satisfied: python-dateutil>=2.7.3 in /usr/local/lib/python3.7/dist-packages (from pandas>=0.25.1->investpy) (2.8.2)\n",
            "Requirement already satisfied: six>=1.5 in /usr/local/lib/python3.7/dist-packages (from python-dateutil>=2.7.3->pandas>=0.25.1->investpy) (1.15.0)\n",
            "Requirement already satisfied: certifi>=2017.4.17 in /usr/local/lib/python3.7/dist-packages (from requests>=2.22.0->investpy) (2021.5.30)\n",
            "Requirement already satisfied: chardet<4,>=3.0.2 in /usr/local/lib/python3.7/dist-packages (from requests>=2.22.0->investpy) (3.0.4)\n",
            "Requirement already satisfied: urllib3!=1.25.0,!=1.25.1,<1.26,>=1.21.1 in /usr/local/lib/python3.7/dist-packages (from requests>=2.22.0->investpy) (1.24.3)\n",
            "Requirement already satisfied: idna<3,>=2.5 in /usr/local/lib/python3.7/dist-packages (from requests>=2.22.0->investpy) (2.10)\n",
            "Building wheels for collected packages: investpy\n",
            "  Building wheel for investpy (setup.py) ... \u001b[?25l\u001b[?25hdone\n",
            "  Created wheel for investpy: filename=investpy-1.0.7-py3-none-any.whl size=4495221 sha256=f052fc56e51a15ab1da2116547ad2b47cce97580124ccb34fdc9b1be4a652013\n",
            "  Stored in directory: /root/.cache/pip/wheels/50/bb/ee/760eeb6cc7ed8efc1b1b23b13b6b9f17fb1ed530fb04bd16f5\n",
            "Successfully built investpy\n",
            "Installing collected packages: pytz, Unidecode, lxml, investpy\n",
            "  Attempting uninstall: pytz\n",
            "    Found existing installation: pytz 2018.9\n",
            "    Uninstalling pytz-2018.9:\n",
            "      Successfully uninstalled pytz-2018.9\n",
            "  Attempting uninstall: lxml\n",
            "    Found existing installation: lxml 4.2.6\n",
            "    Uninstalling lxml-4.2.6:\n",
            "      Successfully uninstalled lxml-4.2.6\n",
            "Successfully installed Unidecode-1.3.2 investpy-1.0.7 lxml-4.6.3 pytz-2021.3\n"
          ]
        },
        {
          "output_type": "display_data",
          "data": {
            "application/vnd.colab-display-data+json": {
              "pip_warning": {
                "packages": [
                  "pytz"
                ]
              }
            }
          },
          "metadata": {}
        }
      ],
      "metadata": {
        "colab": {
          "base_uri": "https://localhost:8080/",
          "height": 782
        },
        "id": "_4pZE71HJk5v",
        "outputId": "bd14841a-f312-4931-e973-ee24640cce7a"
      }
    },
    {
      "cell_type": "code",
      "execution_count": null,
      "source": [
        "#!pip3 install investpy\n",
        "import investpy\n",
        "import pandas as pd\n",
        "\n",
        "\n",
        "#Obtener la tabla en tiempo real de la bolsa de españa\n",
        "df_investSpain = investpy.indices.get_indices_overview(country='spain', as_json=False)\n",
        "df_investSpain.to_csv('Practico 2/Webscraping/csv/investpySpain.csv')\n",
        "print(df_investSpain)\n"
      ],
      "outputs": [
        {
          "output_type": "stream",
          "name": "stdout",
          "text": [
            "   country                                   name  ...  change_percentage  currency\n",
            "0    spain                                IBEX 35  ...             +0.81%       EUR\n",
            "1    spain                           FTSE Latibex  ...             +2.37%       EUR\n",
            "2    spain                         General Madrid  ...             +0.71%       EUR\n",
            "3    spain                        IBEX Medium Cap  ...             +0.56%       EUR\n",
            "4    spain                         IBEX Small Cap  ...             +1.05%       EUR\n",
            "..     ...                                    ...  ...                ...       ...\n",
            "72   spain  IBEX35 Target Volatility 15% Standard  ...             +0.72%       EUR\n",
            "73   spain  IBEX35 Target Volatility 18% Financed  ...             +0.88%       EUR\n",
            "74   spain  IBEX35 Target Volatility 18% Standard  ...             +0.87%       EUR\n",
            "75   spain                               Spain 50  ...              0.00%       EUR\n",
            "76   spain                       Valencia General  ...             +0.70%       EUR\n",
            "\n",
            "[77 rows x 8 columns]\n"
          ]
        }
      ],
      "metadata": {
        "colab": {
          "base_uri": "https://localhost:8080/"
        },
        "id": "JjPr8bEpJaCy",
        "outputId": "fc99b72b-aba0-4525-d97c-3bac82878321"
      }
    }
  ]
}