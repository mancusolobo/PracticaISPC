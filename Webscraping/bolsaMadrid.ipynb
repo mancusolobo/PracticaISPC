{
  "nbformat": 4,
  "nbformat_minor": 0,
  "metadata": {
    "colab": {
      "name": "bolsaMadrid.ipynb",
      "provenance": [],
      "collapsed_sections": []
    },
    "kernelspec": {
      "name": "python3",
      "display_name": "Python 3"
    },
    "language_info": {
      "name": "python"
    }
  },
  "cells": [
    {
      "cell_type": "markdown",
      "metadata": {
        "id": "D9pCFqq5pPHV"
      },
      "source": [
        "# WebScraping \n",
        "\n",
        "------\n",
        "\n",
        "## Obtener cotizaciones de la bolsa de Madrid"
      ]
    },
    {
      "cell_type": "code",
      "metadata": {
        "id": "pmrXDI5qjH6L"
      },
      "source": [
        "#Importamos la Librerias\n",
        "import requests\n",
        "from bs4 import BeautifulSoup\n",
        "import csv\n",
        "from datetime import datetime\n",
        "import pandas as pd\n",
        "from matplotlib import pyplot\n",
        "import matplotlib"
      ],
      "execution_count": 160,
      "outputs": []
    },
    {
      "cell_type": "code",
      "metadata": {
        "id": "TBW32Nsyo9dr"
      },
      "source": [
        "#Enlace de la Bolsa Madrid\n",
        "url=\"https://www.bolsamadrid.es/esp/aspx/Mercados/Precios.aspx?indice=ESI100000000\"\n",
        "path='csv/bolsaMadrid.csv'"
      ],
      "execution_count": 161,
      "outputs": []
    },
    {
      "cell_type": "code",
      "metadata": {
        "id": "tUSkbMKkptqP"
      },
      "source": [
        "#haremos el request a esa ruta\n",
        "#Procesamos el HTML mediante BeautifulSoap\n",
        "req = requests.get(url).text\n",
        "soup = BeautifulSoup(req, \"lxml\")"
      ],
      "execution_count": 162,
      "outputs": []
    },
    {
      "cell_type": "code",
      "metadata": {
        "id": "A2nn10S1rslc"
      },
      "source": [
        "# Obtenemos la tabla por un ID específico\n",
        "table = soup.find(\"table\", {\"id\":\"ctl00_Contenido_tblAcciones\"})"
      ],
      "execution_count": 163,
      "outputs": []
    },
    {
      "cell_type": "code",
      "metadata": {
        "id": "EwBeACicqCYG",
        "colab": {
          "base_uri": "https://localhost:8080/"
        },
        "outputId": "9c54433f-77b8-4465-febc-811d86b7d42b"
      },
      "source": [
        "name=\"\"\n",
        "price=\"\"\n",
        "numRow=0\n",
        "\n",
        "for row in table.find_all(\"tr\"):\n",
        "  numCell=0\n",
        "  for cell in row.find_all(\"td\"):\n",
        "    if numCell == 0:\n",
        "      name=cell.text\n",
        "      print(\"Accion:\", name)\n",
        "    if numCell == 1:\n",
        "      price=cell.text\n",
        "      print(\"Ultimo:\", price,'\\n')\n",
        "    numCell+=1\n",
        "  numRow+=1\n",
        "  #Creamos el CSV\n",
        "  with open(path, 'a',  newline=\"\") as csv_file:\n",
        "    writer = csv.writer(csv_file)\n",
        "    writer.writerow([name, price, datetime.now()])\n",
        "  csv_file.close()"
      ],
      "execution_count": 164,
      "outputs": [
        {
          "output_type": "stream",
          "name": "stdout",
          "text": [
            "Accion: ACCIONA\n",
            "Ultimo: 151,2000 \n",
            "\n",
            "Accion: ACERINOX\n",
            "Ultimo: 12,1450 \n",
            "\n",
            "Accion: ACS\n",
            "Ultimo: 22,7300 \n",
            "\n",
            "Accion: AENA\n",
            "Ultimo: 145,5500 \n",
            "\n",
            "Accion: ALMIRALL\n",
            "Ultimo: 12,9300 \n",
            "\n",
            "Accion: AMADEUS\n",
            "Ultimo: 60,4600 \n",
            "\n",
            "Accion: ARCELORMIT.\n",
            "Ultimo: 27,7000 \n",
            "\n",
            "Accion: B.SANTANDER\n",
            "Ultimo: 3,3455 \n",
            "\n",
            "Accion: BA.SABADELL\n",
            "Ultimo: 0,6728 \n",
            "\n",
            "Accion: BANKINTER\n",
            "Ultimo: 5,1500 \n",
            "\n",
            "Accion: BBVA\n",
            "Ultimo: 5,7690 \n",
            "\n",
            "Accion: CAIXABANK\n",
            "Ultimo: 2,6610 \n",
            "\n",
            "Accion: CELLNEX\n",
            "Ultimo: 53,5800 \n",
            "\n",
            "Accion: CIE AUTOMOT.\n",
            "Ultimo: 22,4400 \n",
            "\n",
            "Accion: ENAGAS\n",
            "Ultimo: 19,6250 \n",
            "\n",
            "Accion: ENDESA\n",
            "Ultimo: 18,6600 \n",
            "\n",
            "Accion: FERROVIAL\n",
            "Ultimo: 26,7000 \n",
            "\n",
            "Accion: FLUIDRA\n",
            "Ultimo: 35,1000 \n",
            "\n",
            "Accion: GRIFOLS CL.A\n",
            "Ultimo: 20,5000 \n",
            "\n",
            "Accion: IAG\n",
            "Ultimo: 2,1660 \n",
            "\n",
            "Accion: IBERDROLA\n",
            "Ultimo: 9,4480 \n",
            "\n",
            "Accion: INDITEX\n",
            "Ultimo: 31,1500 \n",
            "\n",
            "Accion: INDRA A\n",
            "Ultimo: 9,4700 \n",
            "\n",
            "Accion: INM.COLONIAL\n",
            "Ultimo: 8,4900 \n",
            "\n",
            "Accion: MAPFRE\n",
            "Ultimo: 1,7935 \n",
            "\n",
            "Accion: MELIA HOTELS\n",
            "Ultimo: 7,0880 \n",
            "\n",
            "Accion: MERLIN\n",
            "Ultimo: 9,5080 \n",
            "\n",
            "Accion: NATURGY\n",
            "Ultimo: 23,2500 \n",
            "\n",
            "Accion: PHARMA MAR\n",
            "Ultimo: 71,3800 \n",
            "\n",
            "Accion: R.E.C.\n",
            "Ultimo: 17,6500 \n",
            "\n",
            "Accion: REPSOL\n",
            "Ultimo: 11,5800 \n",
            "\n",
            "Accion: SIEMENS GAME\n",
            "Ultimo: 20,8100 \n",
            "\n",
            "Accion: SOLARIA\n",
            "Ultimo: 14,9250 \n",
            "\n",
            "Accion: TELEFONICA\n",
            "Ultimo: 3,7970 \n",
            "\n",
            "Accion: VISCOFAN\n",
            "Ultimo: 55,7000 \n",
            "\n"
          ]
        }
      ]
    },
    {
      "cell_type": "code",
      "metadata": {
        "colab": {
          "base_uri": "https://localhost:8080/",
          "height": 450
        },
        "id": "gobJvgE0bwN5",
        "outputId": "6910591b-1323-446a-a62d-b22a6a516a64"
      },
      "source": [
        "df = pd.read_csv(path)\n",
        "#Creamos las columnas para el DataFrame\n",
        "columnsName = [\"Accion\", \"Precio\", \"Fecha\"]\n",
        "df.columns = columnsName\n",
        "\n",
        "#Eliminamos Datos NaN\n",
        "df = df.dropna()\n",
        "\n",
        "#Convertimos en Precio es float\n",
        "df['Precio'] = df['Precio'].apply(lambda x: x.replace(',','.'))\n",
        "df['Precio'] = df['Precio'].astype(float)\n",
        "\n",
        "#Calculamos Maximo y minimo\n",
        "print(\"Mayor ganancia:\", df['Precio'].max(), \"\\nMayor pérdida:\", df['Precio'].min())\n",
        "\n",
        "#Ordenamos la columna Precio\n",
        "df=df.sort_values(\"Precio\")\n",
        "df.to_csv(path, index=False)\n",
        "df"
      ],
      "execution_count": 165,
      "outputs": [
        {
          "output_type": "stream",
          "name": "stdout",
          "text": [
            "Mayor ganancia: 151.2 \n",
            "Mayor pérdida: 0.6728\n"
          ]
        },
        {
          "output_type": "execute_result",
          "data": {
            "text/html": [
              "<div>\n",
              "<style scoped>\n",
              "    .dataframe tbody tr th:only-of-type {\n",
              "        vertical-align: middle;\n",
              "    }\n",
              "\n",
              "    .dataframe tbody tr th {\n",
              "        vertical-align: top;\n",
              "    }\n",
              "\n",
              "    .dataframe thead th {\n",
              "        text-align: right;\n",
              "    }\n",
              "</style>\n",
              "<table border=\"1\" class=\"dataframe\">\n",
              "  <thead>\n",
              "    <tr style=\"text-align: right;\">\n",
              "      <th></th>\n",
              "      <th>Accion</th>\n",
              "      <th>Precio</th>\n",
              "      <th>Fecha</th>\n",
              "    </tr>\n",
              "  </thead>\n",
              "  <tbody>\n",
              "    <tr>\n",
              "      <th>0</th>\n",
              "      <td>BA.SABADELL</td>\n",
              "      <td>0.6728</td>\n",
              "      <td>2021-10-16 14:48:00.484458</td>\n",
              "    </tr>\n",
              "    <tr>\n",
              "      <th>1</th>\n",
              "      <td>BA.SABADELL</td>\n",
              "      <td>0.6728</td>\n",
              "      <td>2021-10-16 14:47:30.662953</td>\n",
              "    </tr>\n",
              "    <tr>\n",
              "      <th>79</th>\n",
              "      <td>BA.SABADELL</td>\n",
              "      <td>0.6728</td>\n",
              "      <td>2021-10-16 14:57:34.445784</td>\n",
              "    </tr>\n",
              "    <tr>\n",
              "      <th>2</th>\n",
              "      <td>MAPFRE</td>\n",
              "      <td>1.7935</td>\n",
              "      <td>2021-10-16 14:47:30.686249</td>\n",
              "    </tr>\n",
              "    <tr>\n",
              "      <th>3</th>\n",
              "      <td>MAPFRE</td>\n",
              "      <td>1.7935</td>\n",
              "      <td>2021-10-16 14:48:00.511651</td>\n",
              "    </tr>\n",
              "    <tr>\n",
              "      <th>...</th>\n",
              "      <td>...</td>\n",
              "      <td>...</td>\n",
              "      <td>...</td>\n",
              "    </tr>\n",
              "    <tr>\n",
              "      <th>67</th>\n",
              "      <td>AENA</td>\n",
              "      <td>145.5500</td>\n",
              "      <td>2021-10-16 14:47:30.661669</td>\n",
              "    </tr>\n",
              "    <tr>\n",
              "      <th>74</th>\n",
              "      <td>AENA</td>\n",
              "      <td>145.5500</td>\n",
              "      <td>2021-10-16 14:57:34.443697</td>\n",
              "    </tr>\n",
              "    <tr>\n",
              "      <th>68</th>\n",
              "      <td>ACCIONA</td>\n",
              "      <td>151.2000</td>\n",
              "      <td>2021-10-16 14:48:00.474491</td>\n",
              "    </tr>\n",
              "    <tr>\n",
              "      <th>69</th>\n",
              "      <td>ACCIONA</td>\n",
              "      <td>151.2000</td>\n",
              "      <td>2021-10-16 14:47:30.656728</td>\n",
              "    </tr>\n",
              "    <tr>\n",
              "      <th>71</th>\n",
              "      <td>ACCIONA</td>\n",
              "      <td>151.2000</td>\n",
              "      <td>2021-10-16 14:57:34.440757</td>\n",
              "    </tr>\n",
              "  </tbody>\n",
              "</table>\n",
              "<p>105 rows × 3 columns</p>\n",
              "</div>"
            ],
            "text/plain": [
              "         Accion    Precio                       Fecha\n",
              "0   BA.SABADELL    0.6728  2021-10-16 14:48:00.484458\n",
              "1   BA.SABADELL    0.6728  2021-10-16 14:47:30.662953\n",
              "79  BA.SABADELL    0.6728  2021-10-16 14:57:34.445784\n",
              "2        MAPFRE    1.7935  2021-10-16 14:47:30.686249\n",
              "3        MAPFRE    1.7935  2021-10-16 14:48:00.511651\n",
              "..          ...       ...                         ...\n",
              "67         AENA  145.5500  2021-10-16 14:47:30.661669\n",
              "74         AENA  145.5500  2021-10-16 14:57:34.443697\n",
              "68      ACCIONA  151.2000  2021-10-16 14:48:00.474491\n",
              "69      ACCIONA  151.2000  2021-10-16 14:47:30.656728\n",
              "71      ACCIONA  151.2000  2021-10-16 14:57:34.440757\n",
              "\n",
              "[105 rows x 3 columns]"
            ]
          },
          "metadata": {},
          "execution_count": 165
        }
      ]
    }
  ]
}