{
  "nbformat": 4,
  "nbformat_minor": 0,
  "metadata": {
    "colab": {
      "name": "bolsaMadrid.ipynb",
      "provenance": [],
      "collapsed_sections": []
    },
    "kernelspec": {
      "name": "python3",
      "display_name": "Python 3"
    },
    "language_info": {
      "name": "python"
    }
  },
  "cells": [
    {
      "cell_type": "markdown",
      "metadata": {
        "id": "D9pCFqq5pPHV"
      },
      "source": [
        "# WebScraping \n",
        "\n",
        "------\n",
        "\n",
        "## Obtener cotizaciones de la bolsa de Madrid"
      ]
    },
    {
      "cell_type": "code",
      "metadata": {
        "id": "pmrXDI5qjH6L"
      },
      "source": [
        "#Importamos la Librerias\n",
        "import requests\n",
        "from bs4 import BeautifulSoup\n",
        "import csv\n",
        "from datetime import datetime\n",
        "import pandas as pd\n",
        "from matplotlib import pyplot\n",
        "import matplotlib"
      ],
      "execution_count": 9,
      "outputs": []
    },
    {
      "cell_type": "code",
      "metadata": {
        "id": "TBW32Nsyo9dr"
      },
      "source": [
        "#En enlace de la Bolsa Madrid\n",
        "url=\"http://www.bolsamadrid.es/esp/aspx/Indices/Resumen.aspx\"\n",
        "path=\"bolsaMadrid.csv\""
      ],
      "execution_count": 10,
      "outputs": []
    },
    {
      "cell_type": "code",
      "metadata": {
        "id": "tUSkbMKkptqP"
      },
      "source": [
        "req = requests.get(url).text\n",
        "soup = BeautifulSoup(req, \"lxml\")"
      ],
      "execution_count": 11,
      "outputs": []
    },
    {
      "cell_type": "code",
      "metadata": {
        "id": "A2nn10S1rslc"
      },
      "source": [
        "table = soup.find(\"table\", {\"id\":\"ctl00_Contenido_tblÍndices\"})"
      ],
      "execution_count": 12,
      "outputs": []
    },
    {
      "cell_type": "code",
      "metadata": {
        "id": "EwBeACicqCYG"
      },
      "source": [
        "name=\"\"\n",
        "price=\"\"\n",
        "numRow=0\n",
        "\n",
        "for row in table.find_all(\"tr\"):\n",
        "  numCell=0\n",
        "  for cell in row.find_all(\"td\"):\n",
        "    if numCell == 0:\n",
        "      name=cell.text\n",
        "    if numCell == 2:\n",
        "      price=cell.text\n",
        "    numCell+=1\n",
        "  numRow+=1\n",
        "  with open(path, 'a', newline=\"\") as csv_file:\n",
        "    writer = csv.writer(csv_file)\n",
        "    writer.writerow([name, price, datetime.now()])\n",
        "  csv_file.close()"
      ],
      "execution_count": 13,
      "outputs": []
    },
    {
      "cell_type": "code",
      "metadata": {
        "colab": {
          "base_uri": "https://localhost:8080/",
          "height": 450
        },
        "id": "sBstGeb84f7t",
        "outputId": "efbe37dd-caf1-4dba-baeb-6997a2eab0e4"
      },
      "source": [
        "\n",
        "df = pd.read_csv(path)\n",
        "columnsName = [\"Nombre\", \"Ultimo\", \"Fecha\"]\n",
        "df.columns = columnsName\n",
        "df = df.dropna()\n",
        "print(\"Mayor ganancia:\", df['Ultimo'].max(), \"\\nMayor pérdida:\", df['Ultimo'].min())\n",
        "df=df.sort_values(\"Ultimo\")\n",
        "df.to_csv(path, index=False)\n",
        "df"
      ],
      "execution_count": 14,
      "outputs": [
        {
          "output_type": "stream",
          "name": "stdout",
          "text": [
            "Mayor ganancia: 910,30 \n",
            "Mayor pérdida: 1.022,30\n"
          ]
        },
        {
          "output_type": "execute_result",
          "data": {
            "text/html": [
              "<div>\n",
              "<style scoped>\n",
              "    .dataframe tbody tr th:only-of-type {\n",
              "        vertical-align: middle;\n",
              "    }\n",
              "\n",
              "    .dataframe tbody tr th {\n",
              "        vertical-align: top;\n",
              "    }\n",
              "\n",
              "    .dataframe thead th {\n",
              "        text-align: right;\n",
              "    }\n",
              "</style>\n",
              "<table border=\"1\" class=\"dataframe\">\n",
              "  <thead>\n",
              "    <tr style=\"text-align: right;\">\n",
              "      <th></th>\n",
              "      <th>Nombre</th>\n",
              "      <th>Ultimo</th>\n",
              "      <th>Fecha</th>\n",
              "    </tr>\n",
              "  </thead>\n",
              "  <tbody>\n",
              "    <tr>\n",
              "      <th>0</th>\n",
              "      <td>Índice ITX Inverso X5</td>\n",
              "      <td>1.022,30</td>\n",
              "      <td>2021-09-26 23:58:13.777594</td>\n",
              "    </tr>\n",
              "    <tr>\n",
              "      <th>156</th>\n",
              "      <td>Índice ITX Inverso X5</td>\n",
              "      <td>1.022,30</td>\n",
              "      <td>2021-09-27 00:00:27.845389</td>\n",
              "    </tr>\n",
              "    <tr>\n",
              "      <th>91</th>\n",
              "      <td>IBEX 35® Inverso X5</td>\n",
              "      <td>1.060,00</td>\n",
              "      <td>2021-09-27 00:00:27.841561</td>\n",
              "    </tr>\n",
              "    <tr>\n",
              "      <th>1</th>\n",
              "      <td>IBEX 35® Inverso X5</td>\n",
              "      <td>1.060,00</td>\n",
              "      <td>2021-09-26 23:58:13.773856</td>\n",
              "    </tr>\n",
              "    <tr>\n",
              "      <th>2</th>\n",
              "      <td>IBEX 35® Energía</td>\n",
              "      <td>1.228,80</td>\n",
              "      <td>2021-09-26 23:58:13.773410</td>\n",
              "    </tr>\n",
              "    <tr>\n",
              "      <th>...</th>\n",
              "      <td>...</td>\n",
              "      <td>...</td>\n",
              "      <td>...</td>\n",
              "    </tr>\n",
              "    <tr>\n",
              "      <th>75</th>\n",
              "      <td>Índice BBVA Inverso X5</td>\n",
              "      <td>9.629,20</td>\n",
              "      <td>2021-09-26 23:58:13.777541</td>\n",
              "    </tr>\n",
              "    <tr>\n",
              "      <th>90</th>\n",
              "      <td>IBEX 35® Inverso X3</td>\n",
              "      <td>9.794,60</td>\n",
              "      <td>2021-09-27 00:00:27.841507</td>\n",
              "    </tr>\n",
              "    <tr>\n",
              "      <th>76</th>\n",
              "      <td>IBEX 35® Inverso X3</td>\n",
              "      <td>9.794,60</td>\n",
              "      <td>2021-09-26 23:58:13.773762</td>\n",
              "    </tr>\n",
              "    <tr>\n",
              "      <th>149</th>\n",
              "      <td>Índice TEF Inverso X3</td>\n",
              "      <td>910,30</td>\n",
              "      <td>2021-09-27 00:00:27.844993</td>\n",
              "    </tr>\n",
              "    <tr>\n",
              "      <th>77</th>\n",
              "      <td>Índice TEF Inverso X3</td>\n",
              "      <td>910,30</td>\n",
              "      <td>2021-09-26 23:58:13.777136</td>\n",
              "    </tr>\n",
              "  </tbody>\n",
              "</table>\n",
              "<p>156 rows × 3 columns</p>\n",
              "</div>"
            ],
            "text/plain": [
              "                     Nombre    Ultimo                       Fecha\n",
              "0     Índice ITX Inverso X5  1.022,30  2021-09-26 23:58:13.777594\n",
              "156   Índice ITX Inverso X5  1.022,30  2021-09-27 00:00:27.845389\n",
              "91      IBEX 35® Inverso X5  1.060,00  2021-09-27 00:00:27.841561\n",
              "1       IBEX 35® Inverso X5  1.060,00  2021-09-26 23:58:13.773856\n",
              "2          IBEX 35® Energía  1.228,80  2021-09-26 23:58:13.773410\n",
              "..                      ...       ...                         ...\n",
              "75   Índice BBVA Inverso X5  9.629,20  2021-09-26 23:58:13.777541\n",
              "90      IBEX 35® Inverso X3  9.794,60  2021-09-27 00:00:27.841507\n",
              "76      IBEX 35® Inverso X3  9.794,60  2021-09-26 23:58:13.773762\n",
              "149   Índice TEF Inverso X3    910,30  2021-09-27 00:00:27.844993\n",
              "77    Índice TEF Inverso X3    910,30  2021-09-26 23:58:13.777136\n",
              "\n",
              "[156 rows x 3 columns]"
            ]
          },
          "metadata": {},
          "execution_count": 14
        }
      ]
    }
  ]
}